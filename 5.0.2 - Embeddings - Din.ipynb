{
 "cells": [
  {
   "cell_type": "markdown",
   "metadata": {},
   "source": [
    "# DIN (Deep Interest Network)\n",
    "\n",
    "DIN introduce a attention method to learn from sequence(multi-valued) feature. Tradional method usually use sum/mean pooling on sequence feature. DIN use a local activation unit to get the activation score between candidate item and history items. User’s interest are represented by weighted sum of user behaviors. user’s interest vector and other embedding vectors are concatenated and fed into a MLP to get the prediction."
   ]
  },
  {
   "cell_type": "markdown",
   "metadata": {},
   "source": [
    "<img src='https://deepctr-doc.readthedocs.io/en/latest/_images/DIN.png'>"
   ]
  },
  {
   "cell_type": "code",
   "execution_count": 1,
   "metadata": {},
   "outputs": [],
   "source": [
    "import numpy as np\n",
    "\n",
    "from deepctr.models import DIN\n",
    "from deepctr.utils import SingleFeat"
   ]
  },
  {
   "cell_type": "code",
   "execution_count": 2,
   "metadata": {},
   "outputs": [
    {
     "name": "stderr",
     "output_type": "stream",
     "text": [
      "WARNING:root:\n",
      "DeepCTR version 0.4.0.post0 detected. Your version is 0.4.0.\n",
      "Use `pip install -U deepctr` to upgrade.Changelog: https://github.com/shenweichen/DeepCTR/releases/tag/v0.4.0.post0\n"
     ]
    }
   ],
   "source": [
    "use_neg=True\n",
    "\n",
    "uid = np.array([0, 1, 2])\n",
    "iid = np.array([1, 2, 3])  # 0 is mask value\n",
    "igender = np.array([1, 2, 1])  # 0 is mask value\n",
    "ugender = np.array([0, 1, 0])\n",
    "score = np.array([0.1, 0.2, 0.3])\n",
    "behavior_length = np.array([3, 3, 2])\n",
    "\n",
    "hist_iid = np.array([[1, 2, 3, 0], [1, 2, 3, 0], [1, 2, 0, 0]])\n",
    "hist_igender = np.array([[1, 1, 2, 0], [2, 1, 1, 0], [2, 1, 0, 0]])\n",
    "\n",
    "behavior_feature_list = [\"item\", \"item_gender\"]\n",
    "\n",
    "feature_dim_dict = {\"sparse\": [SingleFeat('user', 3), SingleFeat('gender', 2), SingleFeat('item', 3 + 1), \n",
    "                               SingleFeat('item_gender', 2 + 1)], \"dense\": [SingleFeat('score', 0)]}\n",
    "\n",
    "feature_dict = {'user': uid, 'gender': ugender, 'item': iid, 'item_gender': igender,\n",
    "                'hist_item': hist_iid, 'hist_item_gender': hist_igender,\n",
    "                'score': score}"
   ]
  },
  {
   "cell_type": "code",
   "execution_count": 3,
   "metadata": {},
   "outputs": [],
   "source": [
    "x = [feature_dict[feat.name] for feat in feature_dim_dict[\"sparse\"]] + [\n",
    "     feature_dict[feat.name] for feat in feature_dim_dict[\"dense\"]] + [\n",
    "     feature_dict['hist_' + feat] for feat in behavior_feature_list]\n",
    "\n",
    "y = [1, 0, 1]"
   ]
  },
  {
   "cell_type": "code",
   "execution_count": 4,
   "metadata": {},
   "outputs": [
    {
     "name": "stdout",
     "output_type": "stream",
     "text": [
      "WARNING:tensorflow:From /home/user/anaconda2/lib/python2.7/site-packages/tensorflow/python/ops/resource_variable_ops.py:435: colocate_with (from tensorflow.python.framework.ops) is deprecated and will be removed in a future version.\n",
      "Instructions for updating:\n",
      "Colocations handled automatically by placer.\n"
     ]
    },
    {
     "name": "stderr",
     "output_type": "stream",
     "text": [
      "WARNING:tensorflow:From /home/user/anaconda2/lib/python2.7/site-packages/tensorflow/python/ops/resource_variable_ops.py:435: colocate_with (from tensorflow.python.framework.ops) is deprecated and will be removed in a future version.\n",
      "Instructions for updating:\n",
      "Colocations handled automatically by placer.\n"
     ]
    },
    {
     "name": "stdout",
     "output_type": "stream",
     "text": [
      "WARNING:tensorflow:From /home/user/anaconda2/lib/python2.7/site-packages/tensorflow/python/keras/layers/core.py:143: calling dropout (from tensorflow.python.ops.nn_ops) with keep_prob is deprecated and will be removed in a future version.\n",
      "Instructions for updating:\n",
      "Please use `rate` instead of `keep_prob`. Rate should be set to `rate = 1 - keep_prob`.\n"
     ]
    },
    {
     "name": "stderr",
     "output_type": "stream",
     "text": [
      "WARNING:tensorflow:From /home/user/anaconda2/lib/python2.7/site-packages/tensorflow/python/keras/layers/core.py:143: calling dropout (from tensorflow.python.ops.nn_ops) with keep_prob is deprecated and will be removed in a future version.\n",
      "Instructions for updating:\n",
      "Please use `rate` instead of `keep_prob`. Rate should be set to `rate = 1 - keep_prob`.\n"
     ]
    }
   ],
   "source": [
    "model = DIN(feature_dim_dict, behavior_feature_list, hist_len_max=4, )\n",
    "\n",
    "model.compile('adam', 'binary_crossentropy',\n",
    "              metrics=['binary_crossentropy'])"
   ]
  },
  {
   "cell_type": "code",
   "execution_count": 5,
   "metadata": {},
   "outputs": [
    {
     "name": "stdout",
     "output_type": "stream",
     "text": [
      "Train on 1 samples, validate on 2 samples\n",
      "WARNING:tensorflow:From /home/user/anaconda2/lib/python2.7/site-packages/tensorflow/python/ops/math_ops.py:3066: to_int32 (from tensorflow.python.ops.math_ops) is deprecated and will be removed in a future version.\n",
      "Instructions for updating:\n",
      "Use tf.cast instead.\n"
     ]
    },
    {
     "name": "stderr",
     "output_type": "stream",
     "text": [
      "WARNING:tensorflow:From /home/user/anaconda2/lib/python2.7/site-packages/tensorflow/python/ops/math_ops.py:3066: to_int32 (from tensorflow.python.ops.math_ops) is deprecated and will be removed in a future version.\n",
      "Instructions for updating:\n",
      "Use tf.cast instead.\n"
     ]
    },
    {
     "name": "stdout",
     "output_type": "stream",
     "text": [
      "Epoch 1/10\n",
      "1/1 [==============================] - 1s 625ms/sample - loss: 0.6944 - binary_crossentropy: 0.6944 - val_loss: 0.6927 - val_binary_crossentropy: 0.6927\n",
      "Epoch 2/10\n",
      "1/1 [==============================] - 0s 7ms/sample - loss: 0.6878 - binary_crossentropy: 0.6878 - val_loss: 0.6917 - val_binary_crossentropy: 0.6917\n",
      "Epoch 3/10\n",
      "1/1 [==============================] - 0s 6ms/sample - loss: 0.6821 - binary_crossentropy: 0.6821 - val_loss: 0.6908 - val_binary_crossentropy: 0.6908\n",
      "Epoch 4/10\n",
      "1/1 [==============================] - 0s 5ms/sample - loss: 0.6770 - binary_crossentropy: 0.6770 - val_loss: 0.6900 - val_binary_crossentropy: 0.6900\n",
      "Epoch 5/10\n",
      "1/1 [==============================] - 0s 6ms/sample - loss: 0.6725 - binary_crossentropy: 0.6725 - val_loss: 0.6893 - val_binary_crossentropy: 0.6893\n",
      "Epoch 6/10\n",
      "1/1 [==============================] - 0s 6ms/sample - loss: 0.6678 - binary_crossentropy: 0.6678 - val_loss: 0.6886 - val_binary_crossentropy: 0.6886\n",
      "Epoch 7/10\n",
      "1/1 [==============================] - 0s 6ms/sample - loss: 0.6630 - binary_crossentropy: 0.6630 - val_loss: 0.6879 - val_binary_crossentropy: 0.6879\n",
      "Epoch 8/10\n",
      "1/1 [==============================] - 0s 7ms/sample - loss: 0.6578 - binary_crossentropy: 0.6578 - val_loss: 0.6873 - val_binary_crossentropy: 0.6873\n",
      "Epoch 9/10\n",
      "1/1 [==============================] - 0s 7ms/sample - loss: 0.6525 - binary_crossentropy: 0.6525 - val_loss: 0.6867 - val_binary_crossentropy: 0.6867\n",
      "Epoch 10/10\n",
      "1/1 [==============================] - 0s 9ms/sample - loss: 0.6469 - binary_crossentropy: 0.6469 - val_loss: 0.6862 - val_binary_crossentropy: 0.6862\n"
     ]
    }
   ],
   "source": [
    "history = model.fit(x, y, verbose=1, epochs=10, validation_split=0.5)"
   ]
  },
  {
   "cell_type": "code",
   "execution_count": null,
   "metadata": {},
   "outputs": [],
   "source": []
  }
 ],
 "metadata": {
  "kernelspec": {
   "display_name": "Python 2",
   "language": "python",
   "name": "python2"
  },
  "language_info": {
   "codemirror_mode": {
    "name": "ipython",
    "version": 2
   },
   "file_extension": ".py",
   "mimetype": "text/x-python",
   "name": "python",
   "nbconvert_exporter": "python",
   "pygments_lexer": "ipython2",
   "version": "2.7.15"
  }
 },
 "nbformat": 4,
 "nbformat_minor": 2
}
