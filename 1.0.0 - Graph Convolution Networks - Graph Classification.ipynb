{
 "cells": [
  {
   "cell_type": "markdown",
   "metadata": {},
   "source": [
    "------"
   ]
  },
  {
   "cell_type": "markdown",
   "metadata": {},
   "source": [
    "<div> \n",
    "    <center><h5>Higher Order Tutorial on Deep Learning</h5></center>\n",
    "    <center><strong><h2>Graph Convolution Networks</h2></strong></center>\n",
    "    <center><strong><h3>1.0.0 - Graph Classification</h3></strong></center> \n",
    "<div>"
   ]
  },
  {
   "cell_type": "markdown",
   "metadata": {},
   "source": [
    "------"
   ]
  },
  {
   "cell_type": "markdown",
   "metadata": {},
   "source": [
    "### Keras DGL - Node Classification:\n",
    "##  `tl;dr:  MutliGraphCNN(output_dim, num_filters)([X,Adj])`\n",
    "\n",
    "Importing: \n",
    "```python\n",
    "from keras_dgl.layers import MutliGraphCNN\n",
    "```\n",
    "\n",
    "Just like any keras model: \n",
    "```python\n",
    "output = MultiGraphCNN(100, num_filters, activation='elu')([X, Adj])\n",
    "output = MultiGraphCNN(100, num_filters, activation='elu')([output, Adj])\n",
    "output = Lambda(lambda x: K.mean(x, axis=1))(output)  \n",
    "```"
   ]
  },
  {
   "cell_type": "markdown",
   "metadata": {},
   "source": [
    "------"
   ]
  },
  {
   "cell_type": "markdown",
   "metadata": {
    "slideshow": {
     "slide_type": "slide"
    }
   },
   "source": [
    "# Graph Neural Networks"
   ]
  },
  {
   "cell_type": "markdown",
   "metadata": {
    "colab": {
     "base_uri": "https://localhost:8080/",
     "height": 1295
    },
    "colab_type": "code",
    "id": "3lOBizVa4rVt",
    "outputId": "a3142dd2-4ff0-4bb6-a833-a7046f4e0596"
   },
   "source": [
    "\n",
    "Mathematically, the GCN model follows this formula:\n",
    "\n",
    "$H^{(l+1)} = \\sigma(\\tilde{D}^{-\\frac{1}{2}}\\tilde{A}\\tilde{D}^{-\\frac{1}{2}}H^{(l)}W^{(l)})$\n",
    "\n",
    "Here, $H^{(l)}$ denotes the $l^{th}$ layer in the network,\n",
    "$\\sigma$ is the non-linearity, and $W$ is the weight matrix for\n",
    "this layer. $D$ and $A$, as commonly seen, represent degree\n",
    "matrix and adjacency matrix, respectively. The ~ is a renormalization trick\n",
    "in which we add a self-connection to each node of the graph, and build the\n",
    "corresponding degree and adjacency matrix.  The shape of the input\n",
    "$H^{(0)}$ is $N \\times D$, where $N$ is the number of nodes\n",
    "and $D$ is the number of input features. We can chain up multiple\n",
    "layers as such to produce a node-level representation output with shape\n",
    "$N \\times F$, where $F$ is the dimension of the output node\n",
    "feature vector.\n",
    "\n",
    "The equation can be efficiently implemented using sparse matrix\n",
    "multiplication kernels (such as Kipf's\n",
    "`https://github.com/tkipf/pygcn`). The above DGL implementation\n",
    "in fact has already used this trick due to the use of builtin functions. To\n",
    "understand what is under the hood, please read the tutorial on page rank specified in this repository.\n",
    "\n",
    "__References__: <br />\n",
    "[1] Kipf, Thomas N., and Max Welling. \"Semi-supervised classification with graph convolutional networks.\" arXiv preprint arXiv:1609.02907 (2016). <br />\n",
    "[2] Defferrard, Michaël, Xavier Bresson, and Pierre Vandergheynst. \"Convolutional neural networks on graphs with fast localized spectral filtering.\" In Advances in Neural Information Processing Systems, pp. 3844-3852. 2016. <br />\n",
    "[3] Simonovsky, Martin, and Nikos Komodakis. \"Dynamic edge-conditioned filters in convolutional neural networks on graphs.\" In Proc. CVPR. 2017. <br />"
   ]
  },
  {
   "cell_type": "code",
   "execution_count": null,
   "metadata": {
    "colab": {
     "base_uri": "https://localhost:8080/",
     "height": 1295
    },
    "colab_type": "code",
    "id": "3lOBizVa4rVt",
    "outputId": "a3142dd2-4ff0-4bb6-a833-a7046f4e0596"
   },
   "outputs": [],
   "source": [
    "%%bash\n",
    "if [ ! -d \"keras-deep-graph-learning\" ] ; then git clone https://github.com/ypeleg/keras-deep-graph-learning; fi"
   ]
  },
  {
   "cell_type": "code",
   "execution_count": null,
   "metadata": {
    "colab": {
     "base_uri": "https://localhost:8080/",
     "height": 1295
    },
    "colab_type": "code",
    "id": "3lOBizVa4rVt",
    "outputId": "a3142dd2-4ff0-4bb6-a833-a7046f4e0596"
   },
   "outputs": [],
   "source": [
    "from tachles import fix_gcn_paths, load_mutag"
   ]
  },
  {
   "cell_type": "code",
   "execution_count": null,
   "metadata": {
    "colab": {
     "base_uri": "https://localhost:8080/",
     "height": 1295
    },
    "colab_type": "code",
    "id": "3lOBizVa4rVt",
    "outputId": "a3142dd2-4ff0-4bb6-a833-a7046f4e0596"
   },
   "outputs": [],
   "source": [
    "fix_gcn_paths()\n",
    "import keras_dgl\n",
    "from keras_dgl.layers import MultiGraphCNN, MultiGraphAttentionCNN\n",
    "from examples.utils import normalize_adj_numpy, evaluate_preds, preprocess_edge_adj_tensor"
   ]
  },
  {
   "cell_type": "markdown",
   "metadata": {
    "colab": {
     "base_uri": "https://localhost:8080/",
     "height": 1295
    },
    "colab_type": "code",
    "id": "3lOBizVa4rVt",
    "outputId": "a3142dd2-4ff0-4bb6-a833-a7046f4e0596"
   },
   "source": [
    "## The MUTAG Dataset\n",
    "\n",
    "The MUTAG dataset is distributed baseline dataset for graph learning. It contains information about 340 complex molecules that are potentially carcinogenic, which is given by the isMutagenic property.\n",
    "\n",
    "The molecules can be classified as “mutagenic” or “not mutagenic”."
   ]
  },
  {
   "cell_type": "code",
   "execution_count": null,
   "metadata": {
    "colab": {
     "base_uri": "https://localhost:8080/",
     "height": 1295
    },
    "colab_type": "code",
    "id": "3lOBizVa4rVt",
    "outputId": "a3142dd2-4ff0-4bb6-a833-a7046f4e0596"
   },
   "outputs": [],
   "source": [
    "A, A_orig, X, Y, num_edge_features, num_graph_nodes, num_graphs, orig_num_graph_nodes, orig_num_graphs = load_mutag()\n",
    "print X.shape, Y.shape, A.shape"
   ]
  },
  {
   "cell_type": "code",
   "execution_count": null,
   "metadata": {
    "colab": {
     "base_uri": "https://localhost:8080/",
     "height": 1295
    },
    "colab_type": "code",
    "id": "3lOBizVa4rVt",
    "outputId": "a3142dd2-4ff0-4bb6-a833-a7046f4e0596"
   },
   "outputs": [],
   "source": [
    "import keras.backend as K\n",
    "import numpy as np\n",
    "import networkx as nx\n",
    "import matplotlib.pyplot as plt\n",
    "\n",
    "from keras.layers import Dense, Activation, Dropout, Input, Lambda\n",
    "from keras.models import Model, Sequential\n",
    "from keras.callbacks import Callback\n",
    "from keras.regularizers import l2\n",
    "from keras.optimizers import Adam"
   ]
  },
  {
   "cell_type": "code",
   "execution_count": 6,
   "metadata": {
    "colab": {
     "base_uri": "https://localhost:8080/",
     "height": 1295
    },
    "colab_type": "code",
    "id": "3lOBizVa4rVt",
    "lines_to_next_cell": 0,
    "outputId": "a3142dd2-4ff0-4bb6-a833-a7046f4e0596"
   },
   "outputs": [],
   "source": [
    "def plot_graph(adjacency_matrix):\n",
    "    rows, cols = np.where(adjacency_matrix == 1)\n",
    "    edges = zip(rows.tolist(), cols.tolist())\n",
    "    gr = nx.Graph()\n",
    "    gr.add_edges_from(edges)\n",
    "    fig, ax = plt.subplots(1, 1, figsize=(6, 6))\n",
    "    nx.draw_networkx(gr, ax=ax, with_labels=False, node_size=5, width=.5)\n",
    "    ax.set_axis_off()\n",
    "    plt.show()\n",
    "    plt.close()"
   ]
  },
  {
   "cell_type": "code",
   "execution_count": null,
   "metadata": {
    "colab": {
     "base_uri": "https://localhost:8080/",
     "height": 1295
    },
    "colab_type": "code",
    "id": "3lOBizVa4rVt",
    "lines_to_next_cell": 0,
    "outputId": "a3142dd2-4ff0-4bb6-a833-a7046f4e0596"
   },
   "outputs": [],
   "source": [
    "print X[0]\n",
    "# plot_graph(A)"
   ]
  },
  {
   "cell_type": "markdown",
   "metadata": {
    "colab": {
     "base_uri": "https://localhost:8080/",
     "height": 1295
    },
    "colab_type": "code",
    "id": "3lOBizVa4rVt",
    "outputId": "a3142dd2-4ff0-4bb6-a833-a7046f4e0596"
   },
   "source": [
    "----\n",
    "\n",
    "<span style=\"float:right;\">[[source]](https://github.com/vermaMachineLearning/keras-deep-graph-learning/blob/master/keras_dgl/layers/multi_graph_cnn_layer.py#L9)</span>\n",
    "## MutliGraphCNN\n",
    "\n",
    "```python\n",
    "MutliGraphCNN(output_dim, num_filters, activation=None, use_bias=True, kernel_initializer='glorot_uniform', bias_initializer='zeros', kernel_regularizer=None, bias_regularizer=None, activity_regularizer=None, kernel_constraint=None, bias_constraint=None)\n",
    "```\n",
    "\n",
    "MutliGraphCNN assumes that the number of nodes for each graph in the dataset is same. For graph with arbitrary size, one can simply append appropriate zero rows or columns in adjacency matrix (and node feature matrix) based on max graph size in the dataset to achieve this uniformity.\n",
    "\n",
    "__Arguments__\n",
    "\n",
    "- __output_dim__: Positive integer, dimensionality of each graph node feature output space (or also referred dimension of graph node embedding).\n",
    "- __num_filters__: Positive integer, number of graph filters used for constructing  __graph_conv_filters__ input.\n",
    "- __activation__: Activation function to use\n",
    ".\n",
    "If you don't specify anything, no activation is applied\n",
    "(ie. \"linear\" activation: `a(x) = x`).\n",
    "- __use_bias__: Boolean, whether the layer uses a bias vector.\n",
    "- __kernel_initializer__: Initializer for the `kernel` weights matrix\n",
    ".\n",
    "- __bias_initializer__: Initializer for the bias vector\n",
    ".\n",
    "- __kernel_regularizer__: Regularizer function applied to\n",
    "the `kernel` weights matrix\n",
    ".\n",
    "- __bias_regularizer__: Regularizer function applied to the bias vector\n",
    ".\n",
    "- __activity_regularizer__: Regularizer function applied to\n",
    "the output of the layer (its \"activation\").\n",
    ".\n",
    "- __kernel_constraint__: Constraint function applied to the kernel matrix\n",
    ".\n",
    "- __bias_constraint__: Constraint function applied to the bias vector\n",
    ".\n",
    "\n",
    "__Input shapes__\n",
    "\n",
    "* __graph node feature matrix__ input as a 3D tensor with shape: `(batch_size, num_graph_nodes, input_dim)` corresponding to graph node input feature matrix for each graph.<br />\n",
    "* __graph_conv_filters__ input as a 3D tensor with shape: `(batch_size, num_filters*num_graph_nodes, num_graph_nodes)` <br />\n",
    "`num_filters` is different number of graph convolution filters to be applied on graph. For instance `num_filters` could be power of graph Laplacian.<br />\n",
    "\n",
    "__Output shape__\n",
    "\n",
    "* 3D tensor with shape: `(batch_size, num_graph_nodes, output_dim)`\trepresenting convoluted output graph node embedding matrix for each graph in batch size.<br />\n",
    "\n",
    "\n",
    "\n",
    "<span style=\"float:right;\">[[source]](https://github.com/vermaMachineLearning/keras-deep-graph-learning/blob/master/examples/multi_gcnn_graph_classification_example.py)</span>"
   ]
  },
  {
   "cell_type": "markdown",
   "metadata": {
    "colab": {
     "base_uri": "https://localhost:8080/",
     "height": 1295
    },
    "colab_type": "code",
    "id": "3lOBizVa4rVt",
    "outputId": "a3142dd2-4ff0-4bb6-a833-a7046f4e0596"
   },
   "source": [
    "## The model itself"
   ]
  },
  {
   "cell_type": "code",
   "execution_count": null,
   "metadata": {
    "colab": {
     "base_uri": "https://localhost:8080/",
     "height": 1295
    },
    "colab_type": "code",
    "id": "3lOBizVa4rVt",
    "outputId": "a3142dd2-4ff0-4bb6-a833-a7046f4e0596"
   },
   "outputs": [],
   "source": [
    "num_filters = num_edge_features\n",
    "graph_conv_filters = preprocess_edge_adj_tensor(A, symmetric=True)"
   ]
  },
  {
   "cell_type": "code",
   "execution_count": null,
   "metadata": {
    "colab": {
     "base_uri": "https://localhost:8080/",
     "height": 1295
    },
    "colab_type": "code",
    "id": "3lOBizVa4rVt",
    "outputId": "a3142dd2-4ff0-4bb6-a833-a7046f4e0596"
   },
   "outputs": [],
   "source": [
    "X_input = Input(shape=(X.shape[1], X.shape[2]))\n",
    "graph_conv_filters_input = Input(shape=(graph_conv_filters.shape[1], graph_conv_filters.shape[2]))\n",
    "\n",
    "output = MultiGraphCNN(100, num_filters, activation='elu')([X_input, graph_conv_filters_input])\n",
    "output = Dropout(0.2)(output)\n",
    "output = MultiGraphCNN(100, num_filters, activation='elu')([output, graph_conv_filters_input])\n",
    "output = Dropout(0.2)(output)\n",
    "output = Lambda(lambda x: K.mean(x, axis=1))(output)  \n",
    "output = Dense(Y.shape[1])(output)\n",
    "output = Activation('softmax')(output)\n",
    "\n",
    "nb_epochs = 200\n",
    "batch_size = 169\n",
    "\n",
    "model = Model(inputs=[X_input, graph_conv_filters_input], outputs=output)\n",
    "model.compile(loss='categorical_crossentropy', optimizer='adam', metrics=['acc'])\n",
    "model.summary()"
   ]
  },
  {
   "cell_type": "code",
   "execution_count": null,
   "metadata": {
    "colab": {
     "base_uri": "https://localhost:8080/",
     "height": 1295
    },
    "colab_type": "code",
    "id": "3lOBizVa4rVt",
    "outputId": "a3142dd2-4ff0-4bb6-a833-a7046f4e0596"
   },
   "outputs": [],
   "source": [
    "model.fit([X, graph_conv_filters], Y, batch_size=batch_size, validation_split=0.1, epochs=nb_epochs, shuffle=True, verbose=1)"
   ]
  },
  {
   "cell_type": "markdown",
   "metadata": {
    "colab": {
     "base_uri": "https://localhost:8080/",
     "height": 1295
    },
    "colab_type": "code",
    "id": "3lOBizVa4rVt",
    "outputId": "a3142dd2-4ff0-4bb6-a833-a7046f4e0596"
   },
   "source": [
    "## Your Turn! \n",
    "### Run The same but this time with Attention CGNN!"
   ]
  },
  {
   "cell_type": "markdown",
   "metadata": {
    "colab": {
     "base_uri": "https://localhost:8080/",
     "height": 1295
    },
    "colab_type": "code",
    "id": "3lOBizVa4rVt",
    "outputId": "a3142dd2-4ff0-4bb6-a833-a7046f4e0596"
   },
   "source": [
    "## MultiGraphAttentionCNN\n",
    "\n",
    "```python\n",
    "MutliGraphCNN(output_dim, num_filters, activation=None, use_bias=True, kernel_initializer='glorot_uniform', bias_initializer='zeros', kernel_regularizer=None, bias_regularizer=None, activity_regularizer=None, kernel_constraint=None, bias_constraint=None)\n",
    "```\n",
    "\n",
    "MutliGraphCNN assumes that the number of nodes for each graph in the dataset is same. For graph with arbitrary size, one can simply append appropriate zero rows or columns in adjacency matrix (and node feature matrix) based on max graph size in the dataset to achieve this uniformity.\n",
    "\n",
    "__Arguments__\n",
    "\n",
    "- __output_dim__: Positive integer, dimensionality of each graph node feature output space (or also referred dimension of graph node embedding).\n",
    "- __num_filters__: Positive integer, number of graph filters used for constructing  __graph_conv_filters__ input.\n",
    "- __activation__: Activation function to use\n",
    ".\n",
    "If you don't specify anything, no activation is applied\n",
    "\n",
    "- __use_bias__: Boolean, whether the layer uses a bias vector.\n",
    "- __kernel_initializer__: Initializer for the `kernel` weights matrix\n",
    "\n",
    "- __bias_initializer__: Initializer for the bias vector\n",
    "\n",
    "- __kernel_regularizer__: Regularizer function applied to\n",
    "the `kernel` weights matrix\n",
    "\n",
    "- __bias_regularizer__: Regularizer function applied to the bias vector\n",
    "\n",
    "- __activity_regularizer__: Regularizer function applied to\n",
    "the output of the layer (its \"activation\").\n",
    "\n",
    "- __kernel_constraint__: Constraint function applied to the kernel matrix\n",
    "\n",
    "- __bias_constraint__: Constraint function applied to the bias vector\n",
    "\n",
    "\n",
    "__Input shapes__\n",
    "\n",
    "* __graph node feature matrix__ input as a 3D tensor with shape: `(batch_size, num_graph_nodes, input_dim)` corresponding to graph node input feature matrix for each graph.<br />\n",
    "* __graph_conv_filters__ input as a 3D tensor with shape: `(batch_size, num_filters*num_graph_nodes, num_graph_nodes)` <br />\n",
    "`num_filters` is different number of graph convolution filters to be applied on graph. For instance `num_filters` could be power of graph Laplacian.<br />\n",
    "\n",
    "__Output shape__\n",
    "\n",
    "* 3D tensor with shape: `(batch_size, num_graph_nodes, output_dim)`\trepresenting convoluted output graph node embedding matrix for each graph in batch size.<br />\n",
    "\n",
    "\n",
    "\n",
    "<span style=\"float:right;\">[[source]](https://github.com/vermaMachineLearning/keras-deep-graph-learning/blob/master/examples/multi_graph_attention_cnn_graph_classification_example.py)</span>"
   ]
  },
  {
   "cell_type": "code",
   "execution_count": null,
   "metadata": {
    "colab": {
     "base_uri": "https://localhost:8080/",
     "height": 1295
    },
    "colab_type": "code",
    "id": "3lOBizVa4rVt",
    "outputId": "a3142dd2-4ff0-4bb6-a833-a7046f4e0596"
   },
   "outputs": [],
   "source": [
    "num_filters = 2\n",
    "print A.shape"
   ]
  },
  {
   "cell_type": "code",
   "execution_count": null,
   "metadata": {
    "colab": {
     "base_uri": "https://localhost:8080/",
     "height": 1295
    },
    "colab_type": "code",
    "id": "3lOBizVa4rVt",
    "outputId": "a3142dd2-4ff0-4bb6-a833-a7046f4e0596"
   },
   "outputs": [],
   "source": [
    "A_eye_tensor = []\n",
    "for _ in range(orig_num_graphs):\n",
    "    Identity_matrix = np.eye(orig_num_graph_nodes)\n",
    "    A_eye_tensor.append(Identity_matrix)\n",
    "\n",
    "A_eye_tensor = np.array(A_eye_tensor)\n",
    "A_orig = np.add(A_orig, A_eye_tensor)\n",
    "graph_conv_filters = preprocess_edge_adj_tensor(A_orig, symmetric=True)"
   ]
  },
  {
   "cell_type": "code",
   "execution_count": null,
   "metadata": {
    "colab": {
     "base_uri": "https://localhost:8080/",
     "height": 1295
    },
    "colab_type": "code",
    "id": "3lOBizVa4rVt",
    "outputId": "a3142dd2-4ff0-4bb6-a833-a7046f4e0596"
   },
   "outputs": [],
   "source": [
    "# build model\n",
    "X_input = Input(shape=(X.shape[1], X.shape[2]))\n",
    "A_input = Input(shape=(A_orig.shape[1], A_orig.shape[2]))\n",
    "graph_conv_filters_input = Input(shape=(graph_conv_filters.shape[1], graph_conv_filters.shape[2]))\n",
    "\n",
    "output = MultiGraphAttentionCNN(100, num_filters=num_filters, num_attention_heads=2, attention_combine='concat', attention_dropout=0.5, activation='elu', kernel_regularizer=l2(5e-4))([X_input, A_input, graph_conv_filters_input])\n",
    "output = Dropout(0.2)(output)\n",
    "output = MultiGraphAttentionCNN(100, num_filters=num_filters, num_attention_heads=1, attention_combine='average', attention_dropout=0.5, activation='elu', kernel_regularizer=l2(5e-4))([output, A_input, graph_conv_filters_input])\n",
    "output = Dropout(0.2)(output)\n",
    "output = Lambda(lambda x: K.mean(x, axis=1))(output)  # adding a node invariant layer to make sure output does not depends upon the node order in a graph.\n",
    "output = Dense(Y.shape[1], activation='elu')(output)\n",
    "output = Activation('softmax')(output)\n",
    "\n",
    "nb_epochs = 500\n",
    "batch_size = 169\n",
    "\n",
    "model = Model(inputs=[X_input, A_input, graph_conv_filters_input], outputs=output)\n",
    "model.compile(loss='categorical_crossentropy', optimizer='adam', metrics=['acc'])\n",
    "model.fit([X, A_orig, graph_conv_filters], Y, batch_size=batch_size, validation_split=0.1, epochs=nb_epochs, shuffle=True, verbose=1)"
   ]
  }
 ],
 "metadata": {
  "colab": {
   "collapsed_sections": [],
   "name": "dqn-atari-jupyter.ipynb",
   "provenance": [],
   "version": "0.3.2"
  },
  "jupytext": {
   "formats": "ipynb,py:light"
  },
  "kernelspec": {
   "display_name": "Python 2",
   "language": "python",
   "name": "python2"
  },
  "language_info": {
   "codemirror_mode": {
    "name": "ipython",
    "version": 2
   },
   "file_extension": ".py",
   "mimetype": "text/x-python",
   "name": "python",
   "nbconvert_exporter": "python",
   "pygments_lexer": "ipython2",
   "version": "2.7.15"
  }
 },
 "nbformat": 4,
 "nbformat_minor": 2
}
