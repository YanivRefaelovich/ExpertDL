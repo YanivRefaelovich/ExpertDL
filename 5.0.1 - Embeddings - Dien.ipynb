{
 "cells": [
  {
   "cell_type": "markdown",
   "metadata": {},
   "source": [
    "# DIEN (Deep Interest Evolution Network)\n",
    "\n",
    "Deep Interest Evolution Network (DIEN) uses interest extractor layer to capture temporal interests from history behavior sequence. At this layer, an auxiliary loss is proposed to supervise interest extracting at each step. As user interests are diverse, especially in the e-commerce system, interest evolving layer is proposed to capture interest evolving process that is relative to the target item. At interest evolving layer, attention mechanism is embedded into the sequential structure novelly, and the effects of relative interests are strengthened during interest evolution."
   ]
  },
  {
   "cell_type": "markdown",
   "metadata": {},
   "source": [
    "<img src='https://deepctr-doc.readthedocs.io/en/latest/_images/DIEN.png'>"
   ]
  },
  {
   "cell_type": "code",
   "execution_count": 1,
   "metadata": {},
   "outputs": [],
   "source": [
    "import numpy as np\n",
    "\n",
    "from deepctr.models import DIEN\n",
    "from deepctr.utils import SingleFeat"
   ]
  },
  {
   "cell_type": "code",
   "execution_count": 2,
   "metadata": {},
   "outputs": [],
   "source": [
    "use_neg=True\n",
    "\n",
    "uid = np.array([0, 1, 2])\n",
    "iid = np.array([1, 2, 3])  # 0 is mask value\n",
    "igender = np.array([1, 2, 1])  # 0 is mask value\n",
    "ugender = np.array([0, 1, 0])\n",
    "score = np.array([0.1, 0.2, 0.3])\n",
    "behavior_length = np.array([3, 3, 2])\n",
    "\n",
    "hist_iid = np.array([[1, 2, 3, 0], [1, 2, 3, 0], [1, 2, 0, 0]])\n",
    "hist_igender = np.array([[1, 1, 2, 0], [2, 1, 1, 0], [2, 1, 0, 0]])\n",
    "\n",
    "behavior_feature_list = [\"item\", \"item_gender\"]\n",
    "\n",
    "feature_dim_dict = {\"sparse\": [SingleFeat('user', 3), SingleFeat('gender', 2), SingleFeat('item', 3 + 1), \n",
    "                               SingleFeat('item_gender', 2 + 1)], \"dense\": [SingleFeat('score', 0)]}\n",
    "\n",
    "feature_dict = {'user': uid, 'gender': ugender, 'item': iid, 'item_gender': igender,\n",
    "                'hist_item': hist_iid, 'hist_item_gender': hist_igender,\n",
    "                'score': score}"
   ]
  },
  {
   "cell_type": "code",
   "execution_count": 3,
   "metadata": {},
   "outputs": [],
   "source": [
    "x = [feature_dict[feat.name] for feat in feature_dim_dict[\"sparse\"]] + [\n",
    "     feature_dict[feat.name] for feat in feature_dim_dict[\"dense\"]] + [\n",
    "     feature_dict['hist_' + feat] for feat in behavior_feature_list]"
   ]
  },
  {
   "cell_type": "code",
   "execution_count": 4,
   "metadata": {},
   "outputs": [],
   "source": [
    "if use_neg:\n",
    "    feature_dict['neg_hist_item'] = np.array([[1, 2, 3, 0], [1, 2, 3, 0], [1, 2, 0, 0]])\n",
    "    feature_dict['neg_hist_item_gender'] = np.array([[1, 1, 2, 0], [2, 1, 1, 0], [2, 1, 0, 0]])\n",
    "    x += [feature_dict['neg_hist_' + feat] for feat in behavior_feature_list]\n",
    "\n",
    "x += [behavior_length]\n",
    "y = [1, 0, 1]"
   ]
  },
  {
   "cell_type": "code",
   "execution_count": 5,
   "metadata": {},
   "outputs": [
    {
     "name": "stdout",
     "output_type": "stream",
     "text": [
      "WARNING:tensorflow:From /home/user/anaconda2/lib/python2.7/site-packages/tensorflow/python/ops/resource_variable_ops.py:435: colocate_with (from tensorflow.python.framework.ops) is deprecated and will be removed in a future version.\n",
      "Instructions for updating:\n",
      "Colocations handled automatically by placer.\n",
      "WARNING:tensorflow:From deepctr/layers/sequence.py:673: __init__ (from tensorflow.python.ops.rnn_cell_impl) is deprecated and will be removed in a future version.\n",
      "Instructions for updating:\n",
      "This class is equivalent as tf.keras.layers.GRUCell, and will be replaced by that in Tensorflow 2.0.\n",
      "WARNING:tensorflow:From deepctr/contrib/rnn.py:1049: to_int32 (from tensorflow.python.ops.math_ops) is deprecated and will be removed in a future version.\n",
      "Instructions for updating:\n",
      "Use tf.cast instead.\n",
      "WARNING:tensorflow:From deepctr/models/dien.py:72: batch_normalization (from tensorflow.python.layers.normalization) is deprecated and will be removed in a future version.\n",
      "Instructions for updating:\n",
      "Use keras.layers.batch_normalization instead.\n",
      "WARNING:tensorflow:From deepctr/models/dien.py:75: dense (from tensorflow.python.layers.core) is deprecated and will be removed in a future version.\n",
      "Instructions for updating:\n",
      "Use keras.layers.dense instead.\n",
      "WARNING:tensorflow:From /home/user/anaconda2/lib/python2.7/site-packages/tensorflow/python/keras/layers/core.py:143: calling dropout (from tensorflow.python.ops.nn_ops) with keep_prob is deprecated and will be removed in a future version.\n",
      "Instructions for updating:\n",
      "Please use `rate` instead of `keep_prob`. Rate should be set to `rate = 1 - keep_prob`.\n"
     ]
    },
    {
     "name": "stderr",
     "output_type": "stream",
     "text": [
      "WARNING:root:\n",
      "DeepCTR version 0.4.0.post0 detected. Your version is 0.4.0.\n",
      "Use `pip install -U deepctr` to upgrade.Changelog: https://github.com/shenweichen/DeepCTR/releases/tag/v0.4.0.post0\n"
     ]
    }
   ],
   "source": [
    "model = DIEN(feature_dim_dict, behavior_feature_list, hist_len_max=4, embedding_size=8,\n",
    "             dnn_hidden_units=[4, 4, 4], dnn_dropout=0.6, gru_type=\"AUGRU\", use_negsampling=True)\n",
    "\n",
    "model.compile('adam', 'binary_crossentropy',\n",
    "              metrics=['binary_crossentropy'])"
   ]
  },
  {
   "cell_type": "code",
   "execution_count": 6,
   "metadata": {},
   "outputs": [
    {
     "name": "stdout",
     "output_type": "stream",
     "text": [
      "Train on 1 samples, validate on 2 samples\n",
      "Epoch 1/10\n",
      "1/1 [==============================] - 1s 1s/sample - loss: 1.4490 - binary_crossentropy: 0.5027 - val_loss: 1.3939 - val_binary_crossentropy: 0.6842\n",
      "Epoch 2/10\n",
      "1/1 [==============================] - 0s 10ms/sample - loss: 1.6351 - binary_crossentropy: 0.6888 - val_loss: 1.3935 - val_binary_crossentropy: 0.6838\n",
      "Epoch 3/10\n",
      "1/1 [==============================] - 0s 13ms/sample - loss: 1.7443 - binary_crossentropy: 0.7980 - val_loss: 1.3930 - val_binary_crossentropy: 0.6833\n",
      "Epoch 4/10\n",
      "1/1 [==============================] - 0s 8ms/sample - loss: 1.3437 - binary_crossentropy: 0.3974 - val_loss: 1.3925 - val_binary_crossentropy: 0.6828\n",
      "Epoch 5/10\n",
      "1/1 [==============================] - 0s 9ms/sample - loss: 1.6300 - binary_crossentropy: 0.6837 - val_loss: 1.3921 - val_binary_crossentropy: 0.6824\n",
      "Epoch 6/10\n",
      "1/1 [==============================] - 0s 11ms/sample - loss: 1.6370 - binary_crossentropy: 0.6907 - val_loss: 1.3918 - val_binary_crossentropy: 0.6821\n",
      "Epoch 7/10\n",
      "1/1 [==============================] - 0s 12ms/sample - loss: 1.5322 - binary_crossentropy: 0.5859 - val_loss: 1.3915 - val_binary_crossentropy: 0.6818\n",
      "Epoch 8/10\n",
      "1/1 [==============================] - 0s 13ms/sample - loss: 1.5246 - binary_crossentropy: 0.5784 - val_loss: 1.3909 - val_binary_crossentropy: 0.6813\n",
      "Epoch 9/10\n",
      "1/1 [==============================] - 0s 10ms/sample - loss: 1.6355 - binary_crossentropy: 0.6892 - val_loss: 1.3901 - val_binary_crossentropy: 0.6804\n",
      "Epoch 10/10\n",
      "1/1 [==============================] - 0s 10ms/sample - loss: 1.6350 - binary_crossentropy: 0.6887 - val_loss: 1.3899 - val_binary_crossentropy: 0.6802\n"
     ]
    }
   ],
   "source": [
    "history = model.fit(x, y, verbose=1, epochs=10, validation_split=0.5)"
   ]
  },
  {
   "cell_type": "code",
   "execution_count": null,
   "metadata": {},
   "outputs": [],
   "source": []
  }
 ],
 "metadata": {
  "kernelspec": {
   "display_name": "Python 2",
   "language": "python",
   "name": "python2"
  },
  "language_info": {
   "codemirror_mode": {
    "name": "ipython",
    "version": 2
   },
   "file_extension": ".py",
   "mimetype": "text/x-python",
   "name": "python",
   "nbconvert_exporter": "python",
   "pygments_lexer": "ipython2",
   "version": "2.7.15"
  }
 },
 "nbformat": 4,
 "nbformat_minor": 2
}
