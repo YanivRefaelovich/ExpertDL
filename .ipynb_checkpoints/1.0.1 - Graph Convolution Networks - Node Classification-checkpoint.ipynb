{
 "cells": [
  {
   "cell_type": "markdown",
   "metadata": {},
   "source": [
    "------"
   ]
  },
  {
   "cell_type": "markdown",
   "metadata": {},
   "source": [
    "<div> \n",
    "    <center><h5>Higher Order Tutorial on Deep Learning</h5></center>\n",
    "    <center><strong><h2>Graph Convolution Networks</h2></strong></center>\n",
    "    <center><strong><h3>1.0.1 - Node Classification</h3></strong></center> \n",
    "<div>"
   ]
  },
  {
   "cell_type": "markdown",
   "metadata": {},
   "source": [
    "------"
   ]
  },
  {
   "cell_type": "markdown",
   "metadata": {},
   "source": [
    "### Keras DGL - Node Classification:\n",
    "##  `tl;dr:  GraphCNN(output_dim, num_filters, graph_conv_filters)`\n",
    "\n",
    "Importing: \n",
    "```python\n",
    "from keras_dgl.layers import GraphCNN\n",
    "```\n",
    "\n",
    "Just like any keras model: \n",
    "```python\n",
    "model = Sequential()\n",
    "model.add(GraphCNN(16, 2, graph_conv_filters, input_shape=(X.shape[1],)))\n",
    "model.add(GraphCNN(Y.shape[1], 2, graph_conv_filters))\n",
    "model.add(Activation('softmax'))\n",
    "```"
   ]
  },
  {
   "cell_type": "markdown",
   "metadata": {},
   "source": [
    "------"
   ]
  },
  {
   "cell_type": "markdown",
   "metadata": {
    "slideshow": {
     "slide_type": "slide"
    }
   },
   "source": [
    "# Graph Node Classification"
   ]
  },
  {
   "cell_type": "markdown",
   "metadata": {
    "slideshow": {
     "slide_type": "slide"
    }
   },
   "source": [
    "### Motivation :\n",
    "\n",
    "There is a lot of data out there that can be represented in the form of a graph\n",
    "in real-world applications like in Citation Networks, Social Networks (Followers\n",
    "graph, Friends network, … ), Biological Networks or Telecommunications. <br>\n",
    "Using Graph extracted features can boost the performance of predictive models by\n",
    "relying of information flow between close nodes. However, representing graph\n",
    "data is not straightforward especially if we don’t intend to implement\n",
    "hand-crafted features.<br> In this post we will explore some ways to deal with\n",
    "generic graphs to do node classification based on graph representations learned\n",
    "directly from data.\n",
    "\n",
    "### Dataset :\n",
    "\n",
    "The [Cora](https://linqs-data.soe.ucsc.edu/public/lbc/cora.tgz) citation network\n",
    "data set will serve as the base to the implementations and experiments\n",
    "throughout this post. Each node represents a scientific paper and edges between\n",
    "nodes represent a citation relation between the two papers.<br> Each node is\n",
    "represented by a set of binary features ( Bag of words ) as well as by a set of\n",
    "edges that link it to other nodes.<br> The dataset has **2708** nodes classified\n",
    "into one of seven classes. The network has **5429** links. Each Node is also\n",
    "represented  by a binary word features indicating the presence of the\n",
    "corresponding word. Overall there is **1433** binary (Sparse) features for each\n",
    "node. In what follows we *only* use **140** samples for training and the rest\n",
    "for validation/test."
   ]
  },
  {
   "cell_type": "markdown",
   "metadata": {
    "slideshow": {
     "slide_type": "slide"
    }
   },
   "source": [
    "### Problem Setting :\n",
    "\n",
    "![](https://cdn-images-1.medium.com/max/1600/1*klF4yon9ZpP6oZ0kvO86QA.png)\n",
    "\n",
    "**Problem** : Assigning a class label to nodes in a graph while having few\n",
    "training samples.<br> **Intuition**/**Hypothesis** : Nodes that are close in the\n",
    "graph are more likely to have similar labels.<br> **Solution** : Find a way to\n",
    "extract features from the graph to help classify new nodes.\n",
    "\n",
    "### Proposed Approach :\n",
    "\n",
    "<br>\n",
    "\n",
    "**Baseline Model :**\n",
    "\n",
    "![](https://cdn-images-1.medium.com/max/1600/1*nlDeQPW2ABhtwjoSI2dvWQ.png)\n",
    "\n",
    "We first experiment with the simplest model that learn to predict node classes\n",
    "using only the binary features and discarding all graph information.<br> This\n",
    "model is a fully-connected Neural Network that takes as input the binary\n",
    "features and outputs the class probabilities for each node.\n",
    "\n",
    "#### **Baseline model Accuracy : 53.28%**\n",
    "Source: https://github.com/CVxTz/graph_classification"
   ]
  },
  {
   "cell_type": "markdown",
   "metadata": {
    "slideshow": {
     "slide_type": "slide"
    }
   },
   "source": [
    "**Adding Graph features :**\n",
    "\n",
    "One way to automatically learn graph features by embedding each node into a\n",
    "vector by training a network on the auxiliary task of predicting the inverse of\n",
    "the shortest path length between two input nodes like detailed on the figure and\n",
    "code snippet below :\n",
    "\n",
    "![](https://cdn-images-1.medium.com/max/1600/1*PP_y_YhkKFYpzkj7szhnaw.png)"
   ]
  },
  {
   "cell_type": "markdown",
   "metadata": {
    "slideshow": {
     "slide_type": "slide"
    }
   },
   "source": [
    "The next step is to use the pre-trained node embedding as input to the\n",
    "classification model. We also add the an additional input which is the average\n",
    "binary features of the neighboring nodes using distance of learned embedding\n",
    "vectors.\n",
    "\n",
    "The resulting classification network is described in the following figure :\n",
    "\n",
    "![](https://cdn-images-1.medium.com/max/1600/1*xc99u2ejelSXNPKPmh-Nrw.png)\n",
    "\n",
    "<span class=\"figcaption_hack\">Using pretrained embeddings to do node classification</span>\n",
    "\n"
   ]
  },
  {
   "cell_type": "markdown",
   "metadata": {
    "slideshow": {
     "slide_type": "slide"
    }
   },
   "source": [
    "**Improving Graph feature learning :**\n",
    "\n",
    "We can look to further improve the previous model by pushing the pre-training\n",
    "further and using the binary features in the node embedding network and reusing\n",
    "the pre-trained weights from the binary features  in addition to the node\n",
    "embedding vector. This results in a model that relies on more useful\n",
    "representations of the binary features learned from the graph structure.\n",
    "\n",
    "![](https://cdn-images-1.medium.com/max/1600/1*bEy9ua6jTBdkFGrrfvxpiA.png)\n"
   ]
  },
  {
   "cell_type": "markdown",
   "metadata": {
    "slideshow": {
     "slide_type": "slide"
    }
   },
   "source": [
    "# Graph Neural Networks"
   ]
  },
  {
   "cell_type": "markdown",
   "metadata": {
    "colab": {
     "base_uri": "https://localhost:8080/",
     "height": 1295
    },
    "colab_type": "code",
    "id": "3lOBizVa4rVt",
    "outputId": "a3142dd2-4ff0-4bb6-a833-a7046f4e0596"
   },
   "source": [
    "\n",
    "Mathematically, the GCN model follows this formula:\n",
    "\n",
    "$H^{(l+1)} = \\sigma(\\tilde{D}^{-\\frac{1}{2}}\\tilde{A}\\tilde{D}^{-\\frac{1}{2}}H^{(l)}W^{(l)})$\n",
    "\n",
    "Here, $H^{(l)}$ denotes the $l^{th}$ layer in the network,\n",
    "$\\sigma$ is the non-linearity, and $W$ is the weight matrix for\n",
    "this layer. $D$ and $A$, as commonly seen, represent degree\n",
    "matrix and adjacency matrix, respectively. The ~ is a renormalization trick\n",
    "in which we add a self-connection to each node of the graph, and build the\n",
    "corresponding degree and adjacency matrix.  The shape of the input\n",
    "$H^{(0)}$ is $N \\times D$, where $N$ is the number of nodes\n",
    "and $D$ is the number of input features. We can chain up multiple\n",
    "layers as such to produce a node-level representation output with shape\n",
    "$N \\times F$, where $F$ is the dimension of the output node\n",
    "feature vector.\n",
    "\n",
    "The equation can be efficiently implemented using sparse matrix\n",
    "multiplication kernels (such as Kipf's\n",
    "`https://github.com/tkipf/pygcn`). The above DGL implementation\n",
    "in fact has already used this trick due to the use of builtin functions. To\n",
    "understand what is under the hood, please read the tutorial on page rank specified in this repository.\n",
    "\n",
    "__References__: <br />\n",
    "[1] Kipf, Thomas N., and Max Welling. \"Semi-supervised classification with graph convolutional networks.\" arXiv preprint arXiv:1609.02907 (2016). <br />\n",
    "[2] Defferrard, Michaël, Xavier Bresson, and Pierre Vandergheynst. \"Convolutional neural networks on graphs with fast localized spectral filtering.\" In Advances in Neural Information Processing Systems, pp. 3844-3852. 2016. <br />\n",
    "[3] Simonovsky, Martin, and Nikos Komodakis. \"Dynamic edge-conditioned filters in convolutional neural networks on graphs.\" In Proc. CVPR. 2017. <br />"
   ]
  },
  {
   "cell_type": "code",
   "execution_count": 1,
   "metadata": {
    "colab": {
     "base_uri": "https://localhost:8080/",
     "height": 1295
    },
    "colab_type": "code",
    "id": "3lOBizVa4rVt",
    "outputId": "a3142dd2-4ff0-4bb6-a833-a7046f4e0596"
   },
   "outputs": [],
   "source": [
    "%%bash\n",
    "if [ ! -d \"keras-deep-graph-learning\" ] ; then git clone https://github.com/ypeleg/keras-deep-graph-learning; fi"
   ]
  },
  {
   "cell_type": "code",
   "execution_count": 1,
   "metadata": {
    "colab": {
     "base_uri": "https://localhost:8080/",
     "height": 1295
    },
    "colab_type": "code",
    "id": "3lOBizVa4rVt",
    "outputId": "a3142dd2-4ff0-4bb6-a833-a7046f4e0596"
   },
   "outputs": [
    {
     "name": "stderr",
     "output_type": "stream",
     "text": [
      "Using TensorFlow backend.\n"
     ]
    }
   ],
   "source": [
    "from tachles import fix_gcn_paths, load_cora"
   ]
  },
  {
   "cell_type": "code",
   "execution_count": 2,
   "metadata": {
    "colab": {
     "base_uri": "https://localhost:8080/",
     "height": 1295
    },
    "colab_type": "code",
    "id": "3lOBizVa4rVt",
    "outputId": "a3142dd2-4ff0-4bb6-a833-a7046f4e0596"
   },
   "outputs": [],
   "source": [
    "fix_gcn_paths()\n",
    "\n",
    "import keras_dgl\n",
    "from keras_dgl.layers import GraphCNN, GraphAttentionCNN\n",
    "\n",
    "from examples.utils import normalize_adj_numpy, evaluate_preds"
   ]
  },
  {
   "cell_type": "markdown",
   "metadata": {
    "colab": {
     "base_uri": "https://localhost:8080/",
     "height": 1295
    },
    "colab_type": "code",
    "id": "3lOBizVa4rVt",
    "outputId": "a3142dd2-4ff0-4bb6-a833-a7046f4e0596"
   },
   "source": [
    "## The CORA Dataset\n",
    "The dataset used in this demo can be downloaded from https://linqs-data.soe.ucsc.edu/public/lbc/cora.tgz\n",
    "\n",
    "The following is the description of the dataset:\n",
    "> The Cora dataset consists of 2708 scientific publications classified into one of seven classes.\n",
    "> The citation network consists of 5429 links. Each publication in the dataset is described by a\n",
    "> 0/1-valued word vector indicating the absence/presence of the corresponding word from the dictionary.\n",
    "> The dictionary consists of 1433 unique words. The README file in the dataset provides more details.\n",
    "\n",
    "Download and unzip the cora.tgz file to a location on your computer and set the `data_dir` variable to\n",
    "point to the location of the dataset (the directory containing \"cora.cites\" and \"cora.content\")."
   ]
  },
  {
   "cell_type": "code",
   "execution_count": 3,
   "metadata": {
    "colab": {
     "base_uri": "https://localhost:8080/",
     "height": 1295
    },
    "colab_type": "code",
    "id": "3lOBizVa4rVt",
    "outputId": "a3142dd2-4ff0-4bb6-a833-a7046f4e0596"
   },
   "outputs": [
    {
     "name": "stdout",
     "output_type": "stream",
     "text": [
      "Loading cora dataset...\n",
      "Dataset has 2708 nodes, 5429 edges, 1433 features.\n",
      "(2708, 1433) (2708, 7) (2708, 7)\n"
     ]
    }
   ],
   "source": [
    "X, Y_train, Y_test, A, train_idx, val_idx, test_idx, train_mask = load_cora()\n",
    "print X.shape, Y_train.shape, Y_test.shape"
   ]
  },
  {
   "cell_type": "code",
   "execution_count": 4,
   "metadata": {
    "colab": {
     "base_uri": "https://localhost:8080/",
     "height": 1295
    },
    "colab_type": "code",
    "id": "3lOBizVa4rVt",
    "outputId": "a3142dd2-4ff0-4bb6-a833-a7046f4e0596"
   },
   "outputs": [],
   "source": [
    "import keras.backend as K\n",
    "import numpy as np\n",
    "import networkx as nx\n",
    "import matplotlib.pyplot as plt\n",
    "\n",
    "from keras.layers import Dense, Activation, Dropout, Input\n",
    "from keras.models import Model, Sequential\n",
    "from keras.callbacks import Callback\n",
    "from keras.regularizers import l2\n",
    "from keras.optimizers import Adam"
   ]
  },
  {
   "cell_type": "code",
   "execution_count": 6,
   "metadata": {
    "colab": {
     "base_uri": "https://localhost:8080/",
     "height": 1295
    },
    "colab_type": "code",
    "id": "3lOBizVa4rVt",
    "lines_to_next_cell": 0,
    "outputId": "a3142dd2-4ff0-4bb6-a833-a7046f4e0596"
   },
   "outputs": [],
   "source": [
    "def plot_graph(adjacency_matrix):\n",
    "    rows, cols = np.where(adjacency_matrix == 1)\n",
    "    edges = zip(rows.tolist(), cols.tolist())\n",
    "    gr = nx.Graph()\n",
    "    gr.add_edges_from(edges)\n",
    "    fig, ax = plt.subplots(1, 1, figsize=(6, 6))\n",
    "    nx.draw_networkx(gr, ax=ax, with_labels=False, node_size=5, width=.5)\n",
    "    ax.set_axis_off()\n",
    "    plt.show()\n",
    "    plt.close()"
   ]
  },
  {
   "cell_type": "code",
   "execution_count": null,
   "metadata": {
    "colab": {
     "base_uri": "https://localhost:8080/",
     "height": 1295
    },
    "colab_type": "code",
    "id": "3lOBizVa4rVt",
    "lines_to_next_cell": 0,
    "outputId": "a3142dd2-4ff0-4bb6-a833-a7046f4e0596"
   },
   "outputs": [
    {
     "name": "stdout",
     "output_type": "stream",
     "text": [
      "[0. 0. 0. ... 0. 0. 0.]\n"
     ]
    }
   ],
   "source": [
    "print X[0]\n",
    "plot_graph(A)"
   ]
  },
  {
   "cell_type": "markdown",
   "metadata": {
    "colab": {
     "base_uri": "https://localhost:8080/",
     "height": 1295
    },
    "colab_type": "code",
    "id": "3lOBizVa4rVt",
    "outputId": "a3142dd2-4ff0-4bb6-a833-a7046f4e0596"
   },
   "source": [
    "## GraphCNN\n",
    "\n",
    "```python\n",
    "GraphCNN(output_dim, num_filters, graph_conv_filters,  activation=None, use_bias=True, kernel_initializer='glorot_uniform', bias_initializer='zeros', kernel_regularizer=None, bias_regularizer=None, activity_regularizer=None, kernel_constraint=None, bias_constraint=None)\n",
    "```\n",
    "\n",
    "GraphCNN layer assumes a fixed input graph structure which is passed as a layer argument. As a result, the input order of graph nodes are fixed for the model and should match the nodes order in inputs. Also, graph structure can not be changed once the model is compiled. This choice enable us to use Keras Sequential API but comes with some constraints (for instance shuffling is not  possible anymore in-or-after each epoch).<br />\n",
    "\n",
    "\n",
    "__Arguments__\n",
    "\n",
    "- __output_dim__: Positive integer, dimensionality of each graph node feature output space (or also referred dimension of graph node embedding).\n",
    "- __num_filters__: Positive integer, number of graph filters used for constructing  __graph_conv_filters__ input.\n",
    "- __graph_conv_filters__ input as a 2D tensor with shape: `(num_filters*num_graph_nodes, num_graph_nodes)`<br />\n",
    "`num_filters` is different number of graph convolution filters to be applied on graph. For instance `num_filters` could be power of graph Laplacian. Here list of graph convolutional matrices are stacked along second-last axis.<br />\n",
    "- __activation__: Activation function to use\n",
    "(see [activations](https://keras.io/activations)).\n",
    "If you don't specify anything, no activation is applied\n",
    "(ie. \"linear\" activation: `a(x) = x`).\n",
    "- __use_bias__: Boolean, whether the layer uses a bias vector.\n",
    "- __kernel_initializer__: Initializer for the `kernel` weights matrix\n",
    "(see [initializers](https://keras.io/initializers)).\n",
    "- __bias_initializer__: Initializer for the bias vector\n",
    "(see [initializers](https://keras.io/initializers)).\n",
    "- __kernel_regularizer__: Regularizer function applied to\n",
    "the `kernel` weights matrix\n",
    "(see [regularizer](https://keras.io/regularizers)).\n",
    "- __bias_regularizer__: Regularizer function applied to the bias vector\n",
    "(see [regularizer](https://keras.io/regularizers)).\n",
    "- __activity_regularizer__: Regularizer function applied to\n",
    "the output of the layer (its \"activation\").\n",
    "(see [regularizer](https://keras.io/regularizers)).\n",
    "- __kernel_constraint__: Constraint function applied to the kernel matrix\n",
    "(see [constraints](https://keras.io/constraints/)).\n",
    "- __bias_constraint__: Constraint function applied to the bias vector\n",
    "(see [constraints](https://keras.io/constraints/)).\n",
    "\n",
    "\n",
    "\n",
    "__Input shapes__\n",
    "\n",
    "* 2D tensor with shape: `(num_graph_nodes, input_dim)` representing graph node input feature matrix.<br />\n",
    "\n",
    "\n",
    "__Output shape__\n",
    "\n",
    "* 2D tensor with shape: `(num_graph_nodes, output_dim)`\trepresenting convoluted output graph node embedding (or signal) matrix.<br />\n",
    "\n",
    "\n",
    "\n",
    "----\n",
    "## Remarks\n",
    "\n",
    "__Why pass graph_conv_filters as a layer argument and not as an input in GraphCNN?__<br />\n",
    "The problem lies with keras multi-input functional API. It requires --- all input arrays (x) should have the same number of samples i.e.,  all inputs first dimension axis should be same. In special cases the first dimension of inputs could be same, for example check out Kipf .et.al.  keras implementation [[source]](https://github.com/tkipf/keras-gcn/blob/master/kegra/train.py). But in cases such as a graph recurrent neural networks this does not hold true.\n",
    "\n",
    "  \n",
    "__Why pass graph_conv_filters as 2D tensor of this specific format?__<br />\n",
    "Passing  graph_conv_filters input as a 2D tensor with shape: `(K*num_graph_nodes, num_graph_nodes)` cut down few number of tensor computation operations.\n",
    "\n",
    "__References__: <br />\n",
    "[1] Kipf, Thomas N., and Max Welling. \"Semi-supervised classification with graph convolutional networks.\" arXiv preprint arXiv:1609.02907 (2016). <br />\n",
    "[2] Defferrard, Michaël, Xavier Bresson, and Pierre Vandergheynst. \"Convolutional neural networks on graphs with fast localized spectral filtering.\" In Advances in Neural Information Processing Systems, pp. 3844-3852. 2016. <br />\n",
    "[3] Simonovsky, Martin, and Nikos Komodakis. \"Dynamic edge-conditioned filters in convolutional neural networks on graphs.\" In Proc. CVPR. 2017. <br />\n",
    "\n",
    "\n",
    "<span style=\"float:right;\">[[source]](https://github.com/ypeleg/keras-deep-graph-learning/blob/master/examples/gcnn_node_classification_example.py)</span>"
   ]
  },
  {
   "cell_type": "code",
   "execution_count": 5,
   "metadata": {
    "colab": {
     "base_uri": "https://localhost:8080/",
     "height": 1295
    },
    "colab_type": "code",
    "id": "3lOBizVa4rVt",
    "lines_to_next_cell": 0,
    "outputId": "a3142dd2-4ff0-4bb6-a833-a7046f4e0596"
   },
   "outputs": [],
   "source": [
    "class EdgeEval(Callback):\n",
    "    def __init__(self):\n",
    "        super(EdgeEval, self).__init__()\n",
    "\n",
    "    def on_epoch_end(self, epoch, logs=None):\n",
    "        Y_pred = model.predict(X, batch_size=A.shape[0])\n",
    "        _, train_acc = evaluate_preds(Y_pred, [Y_train], [train_idx])\n",
    "        _, test_acc = evaluate_preds(Y_pred, [Y_test], [test_idx])\n",
    "        print(\"Epoch: {:04d}\".format(epoch), \"train_acc= {:.4f}\".format(train_acc[0]), \"test_acc= {:.4f}\".format(test_acc[0]))    "
   ]
  },
  {
   "cell_type": "markdown",
   "metadata": {
    "colab": {
     "base_uri": "https://localhost:8080/",
     "height": 1295
    },
    "colab_type": "code",
    "id": "3lOBizVa4rVt",
    "outputId": "a3142dd2-4ff0-4bb6-a833-a7046f4e0596"
   },
   "source": [
    "## The model itself"
   ]
  },
  {
   "cell_type": "code",
   "execution_count": 20,
   "metadata": {
    "colab": {
     "base_uri": "https://localhost:8080/",
     "height": 1295
    },
    "colab_type": "code",
    "id": "3lOBizVa4rVt",
    "outputId": "a3142dd2-4ff0-4bb6-a833-a7046f4e0596"
   },
   "outputs": [
    {
     "name": "stdout",
     "output_type": "stream",
     "text": [
      "(5416, 2708)\n",
      "_________________________________________________________________\n",
      "Layer (type)                 Output Shape              Param #   \n",
      "=================================================================\n",
      "input_6 (InputLayer)         (None, 1433)              0         \n",
      "_________________________________________________________________\n",
      "graph_cnn_12 (GraphCNN)      (None, 16)                45872     \n",
      "_________________________________________________________________\n",
      "dropout_6 (Dropout)          (None, 16)                0         \n",
      "_________________________________________________________________\n",
      "graph_cnn_13 (GraphCNN)      (None, 7)                 231       \n",
      "_________________________________________________________________\n",
      "activation_6 (Activation)    (None, 7)                 0         \n",
      "=================================================================\n",
      "Total params: 46,103\n",
      "Trainable params: 46,103\n",
      "Non-trainable params: 0\n",
      "_________________________________________________________________\n"
     ]
    }
   ],
   "source": [
    "A_norm = normalize_adj_numpy(A, True)\n",
    "num_filters = 2\n",
    "graph_conv_filters = np.concatenate([A_norm, np.matmul(A_norm, A_norm)], axis=0)\n",
    "print graph_conv_filters.shape\n",
    "\n",
    "graph_conv_filters = K.constant(graph_conv_filters)\n",
    "\n",
    "# Build Model\n",
    "inp = Input(shape=(X.shape[1],))\n",
    "x = GraphCNN(16, num_filters, graph_conv_filters, activation='elu', kernel_regularizer=l2(5e-4))(inp)\n",
    "x = Dropout(0.2)(x)\n",
    "x = GraphCNN(Y_train.shape[1], num_filters, graph_conv_filters, activation='elu', kernel_regularizer=l2(5e-4))(x)\n",
    "x = Activation('softmax')(x)\n",
    "\n",
    "model = Model(inputs = inp, outputs = x)\n",
    "model.compile(loss='categorical_crossentropy', optimizer=Adam(lr=0.01), metrics=['acc'])\n",
    "model.summary()"
   ]
  },
  {
   "cell_type": "code",
   "execution_count": null,
   "metadata": {
    "colab": {
     "base_uri": "https://localhost:8080/",
     "height": 1295
    },
    "colab_type": "code",
    "id": "3lOBizVa4rVt",
    "outputId": "a3142dd2-4ff0-4bb6-a833-a7046f4e0596"
   },
   "outputs": [
    {
     "name": "stdout",
     "output_type": "stream",
     "text": [
      "Epoch 1/500\n",
      "2708/2708 [==============================] - 8s 3ms/step - loss: 2.0241 - acc: 0.2862\n",
      "('Epoch: 0000', 'train_acc= 0.3286', 'test_acc= 0.3160')\n",
      "Epoch 2/500\n",
      "2708/2708 [==============================] - 1s 450us/step - loss: 1.9416 - acc: 0.2803\n",
      "('Epoch: 0001', 'train_acc= 0.3857', 'test_acc= 0.3370')\n",
      "Epoch 3/500\n",
      "2708/2708 [==============================] - 1s 464us/step - loss: 1.8480 - acc: 0.2825\n",
      "('Epoch: 0002', 'train_acc= 0.4571', 'test_acc= 0.3740')\n",
      "Epoch 4/500\n",
      "2708/2708 [==============================] - 1s 455us/step - loss: 1.7959 - acc: 0.2640\n",
      "('Epoch: 0003', 'train_acc= 0.5571', 'test_acc= 0.4800')\n",
      "Epoch 5/500\n",
      "2708/2708 [==============================] - 1s 455us/step - loss: 1.7328 - acc: 0.2736\n",
      "('Epoch: 0004', 'train_acc= 0.6643', 'test_acc= 0.5370')\n",
      "Epoch 6/500\n",
      "2708/2708 [==============================] - 1s 455us/step - loss: 1.7295 - acc: 0.2899\n",
      "('Epoch: 0005', 'train_acc= 0.6929', 'test_acc= 0.5710')\n",
      "Epoch 7/500\n",
      "2708/2708 [==============================] - 1s 452us/step - loss: 1.6883 - acc: 0.3098\n",
      "('Epoch: 0006', 'train_acc= 0.7071', 'test_acc= 0.5920')\n",
      "Epoch 8/500\n",
      "2708/2708 [==============================] - 1s 450us/step - loss: 1.6136 - acc: 0.3072\n",
      "('Epoch: 0007', 'train_acc= 0.7214', 'test_acc= 0.6500')\n",
      "Epoch 9/500\n",
      "2708/2708 [==============================] - 1s 465us/step - loss: 1.5383 - acc: 0.3630\n",
      "('Epoch: 0008', 'train_acc= 0.7857', 'test_acc= 0.7170')\n",
      "Epoch 10/500\n",
      "2708/2708 [==============================] - 1s 503us/step - loss: 1.5522 - acc: 0.4106\n",
      "('Epoch: 0009', 'train_acc= 0.8000', 'test_acc= 0.7480')\n",
      "Epoch 11/500\n",
      "2708/2708 [==============================] - 1s 497us/step - loss: 1.4455 - acc: 0.4206\n",
      "('Epoch: 0010', 'train_acc= 0.8214', 'test_acc= 0.7520')\n",
      "Epoch 12/500\n",
      "2708/2708 [==============================] - 1s 497us/step - loss: 1.5340 - acc: 0.4369\n",
      "('Epoch: 0011', 'train_acc= 0.8500', 'test_acc= 0.7450')\n",
      "Epoch 13/500\n",
      "2708/2708 [==============================] - 1s 500us/step - loss: 1.4694 - acc: 0.4335\n",
      "('Epoch: 0012', 'train_acc= 0.8357', 'test_acc= 0.7440')\n",
      "Epoch 14/500\n",
      "2708/2708 [==============================] - 1s 487us/step - loss: 1.6028 - acc: 0.4324\n",
      "('Epoch: 0013', 'train_acc= 0.8714', 'test_acc= 0.7500')\n",
      "Epoch 15/500\n",
      "2708/2708 [==============================] - 1s 484us/step - loss: 1.4275 - acc: 0.4114\n",
      "('Epoch: 0014', 'train_acc= 0.8714', 'test_acc= 0.7490')\n",
      "Epoch 16/500\n",
      "2708/2708 [==============================] - 1s 516us/step - loss: 1.5044 - acc: 0.4446\n",
      "('Epoch: 0015', 'train_acc= 0.8714', 'test_acc= 0.7500')\n",
      "Epoch 17/500\n",
      "2708/2708 [==============================] - 1s 520us/step - loss: 1.3618 - acc: 0.4173\n",
      "('Epoch: 0016', 'train_acc= 0.8714', 'test_acc= 0.7520')\n",
      "Epoch 18/500\n",
      "2708/2708 [==============================] - 1s 514us/step - loss: 1.2946 - acc: 0.4040\n",
      "('Epoch: 0017', 'train_acc= 0.8714', 'test_acc= 0.7650')\n",
      "Epoch 19/500\n",
      "2708/2708 [==============================] - 1s 493us/step - loss: 1.3372 - acc: 0.3922\n",
      "('Epoch: 0018', 'train_acc= 0.9000', 'test_acc= 0.7760')\n",
      "Epoch 20/500\n",
      "2708/2708 [==============================] - 1s 479us/step - loss: 1.4050 - acc: 0.3900\n",
      "('Epoch: 0019', 'train_acc= 0.9000', 'test_acc= 0.7950')\n",
      "Epoch 21/500\n",
      "2708/2708 [==============================] - 1s 485us/step - loss: 1.3288 - acc: 0.3833\n",
      "('Epoch: 0020', 'train_acc= 0.9000', 'test_acc= 0.8080')\n",
      "Epoch 22/500\n",
      "2708/2708 [==============================] - 1s 480us/step - loss: 1.4124 - acc: 0.3807\n",
      "('Epoch: 0021', 'train_acc= 0.9000', 'test_acc= 0.8120')\n",
      "Epoch 23/500\n",
      "2708/2708 [==============================] - 1s 482us/step - loss: 1.2113 - acc: 0.4114\n",
      "('Epoch: 0022', 'train_acc= 0.8929', 'test_acc= 0.8170')\n",
      "Epoch 24/500\n",
      "2708/2708 [==============================] - 1s 455us/step - loss: 1.2723 - acc: 0.4014\n",
      "('Epoch: 0023', 'train_acc= 0.9000', 'test_acc= 0.8050')\n",
      "Epoch 25/500\n",
      "2708/2708 [==============================] - 1s 456us/step - loss: 1.2888 - acc: 0.4188\n",
      "('Epoch: 0024', 'train_acc= 0.8786', 'test_acc= 0.7720')\n",
      "Epoch 26/500\n",
      "2708/2708 [==============================] - 1s 532us/step - loss: 1.2139 - acc: 0.4173\n",
      "('Epoch: 0025', 'train_acc= 0.8786', 'test_acc= 0.7530')\n",
      "Epoch 27/500\n",
      "2708/2708 [==============================] - 1s 494us/step - loss: 1.3807 - acc: 0.4125\n",
      "('Epoch: 0026', 'train_acc= 0.9000', 'test_acc= 0.7920')\n",
      "Epoch 28/500\n",
      "2708/2708 [==============================] - 1s 463us/step - loss: 1.2214 - acc: 0.4084\n",
      "('Epoch: 0027', 'train_acc= 0.9286', 'test_acc= 0.7990')\n",
      "Epoch 29/500\n",
      "2708/2708 [==============================] - 1s 495us/step - loss: 1.2874 - acc: 0.4221\n",
      "('Epoch: 0028', 'train_acc= 0.9357', 'test_acc= 0.8070')\n",
      "Epoch 30/500\n",
      "2708/2708 [==============================] - 1s 483us/step - loss: 1.0751 - acc: 0.4051\n",
      "('Epoch: 0029', 'train_acc= 0.9357', 'test_acc= 0.8130')\n",
      "Epoch 31/500\n",
      "2708/2708 [==============================] - 1s 507us/step - loss: 1.2357 - acc: 0.3900\n",
      "('Epoch: 0030', 'train_acc= 0.9357', 'test_acc= 0.8150')\n",
      "Epoch 32/500\n",
      "2708/2708 [==============================] - 1s 504us/step - loss: 1.1257 - acc: 0.3885\n",
      "('Epoch: 0031', 'train_acc= 0.9286', 'test_acc= 0.8230')\n",
      "Epoch 33/500\n",
      "2708/2708 [==============================] - 1s 498us/step - loss: 1.2318 - acc: 0.3696\n",
      "('Epoch: 0032', 'train_acc= 0.9214', 'test_acc= 0.8200')\n",
      "Epoch 34/500\n",
      "2708/2708 [==============================] - 1s 508us/step - loss: 1.2291 - acc: 0.3940\n",
      "('Epoch: 0033', 'train_acc= 0.9214', 'test_acc= 0.8190')\n",
      "Epoch 35/500\n",
      "2708/2708 [==============================] - 1s 473us/step - loss: 1.2293 - acc: 0.3837\n",
      "('Epoch: 0034', 'train_acc= 0.9286', 'test_acc= 0.8250')\n",
      "Epoch 36/500\n",
      "2708/2708 [==============================] - 1s 468us/step - loss: 1.2311 - acc: 0.3711\n",
      "('Epoch: 0035', 'train_acc= 0.9214', 'test_acc= 0.8110')\n",
      "Epoch 37/500\n",
      "2708/2708 [==============================] - 1s 463us/step - loss: 1.1819 - acc: 0.3770\n",
      "('Epoch: 0036', 'train_acc= 0.9214', 'test_acc= 0.7980')\n",
      "Epoch 38/500\n",
      "2708/2708 [==============================] - 1s 458us/step - loss: 1.2054 - acc: 0.3848\n",
      "('Epoch: 0037', 'train_acc= 0.9071', 'test_acc= 0.7880')\n",
      "Epoch 39/500\n",
      "2708/2708 [==============================] - 1s 483us/step - loss: 1.2456 - acc: 0.3874\n",
      "('Epoch: 0038', 'train_acc= 0.8929', 'test_acc= 0.7540')\n",
      "Epoch 40/500\n",
      "2708/2708 [==============================] - 1s 469us/step - loss: 1.1164 - acc: 0.4106\n",
      "('Epoch: 0039', 'train_acc= 0.8857', 'test_acc= 0.7640')\n",
      "Epoch 41/500\n",
      "2708/2708 [==============================] - 1s 507us/step - loss: 1.1458 - acc: 0.4147\n",
      "('Epoch: 0040', 'train_acc= 0.9071', 'test_acc= 0.7940')\n",
      "Epoch 42/500\n",
      "2708/2708 [==============================] - 1s 488us/step - loss: 1.2164 - acc: 0.4014\n",
      "('Epoch: 0041', 'train_acc= 0.9071', 'test_acc= 0.8120')\n",
      "Epoch 43/500\n",
      "2708/2708 [==============================] - 1s 510us/step - loss: 1.1375 - acc: 0.4210\n",
      "('Epoch: 0042', 'train_acc= 0.9214', 'test_acc= 0.8180')\n",
      "Epoch 44/500\n",
      "2708/2708 [==============================] - 1s 484us/step - loss: 1.0601 - acc: 0.4058\n",
      "('Epoch: 0043', 'train_acc= 0.9214', 'test_acc= 0.8180')\n",
      "Epoch 45/500\n",
      "2708/2708 [==============================] - 1s 475us/step - loss: 1.0302 - acc: 0.3981\n",
      "('Epoch: 0044', 'train_acc= 0.9286', 'test_acc= 0.8200')\n",
      "Epoch 46/500\n",
      "2708/2708 [==============================] - 1s 514us/step - loss: 1.0910 - acc: 0.3940\n",
      "('Epoch: 0045', 'train_acc= 0.9357', 'test_acc= 0.8190')\n",
      "Epoch 47/500\n",
      "2708/2708 [==============================] - 1s 499us/step - loss: 1.1766 - acc: 0.3685\n",
      "('Epoch: 0046', 'train_acc= 0.9357', 'test_acc= 0.8170')\n",
      "Epoch 48/500\n",
      "2708/2708 [==============================] - 1s 486us/step - loss: 1.3133 - acc: 0.3874\n",
      "('Epoch: 0047', 'train_acc= 0.9286', 'test_acc= 0.8200')\n",
      "Epoch 49/500\n",
      "2708/2708 [==============================] - 1s 527us/step - loss: 1.1203 - acc: 0.3678\n",
      "('Epoch: 0048', 'train_acc= 0.9357', 'test_acc= 0.8110')\n",
      "Epoch 50/500\n",
      "2708/2708 [==============================] - 1s 496us/step - loss: 1.1291 - acc: 0.3900\n",
      "('Epoch: 0049', 'train_acc= 0.8929', 'test_acc= 0.7740')\n",
      "Epoch 51/500\n",
      "2708/2708 [==============================] - 1s 496us/step - loss: 1.1149 - acc: 0.3652\n",
      "('Epoch: 0050', 'train_acc= 0.9000', 'test_acc= 0.7700')\n",
      "Epoch 52/500\n",
      "2708/2708 [==============================] - 1s 515us/step - loss: 1.1717 - acc: 0.3612\n",
      "('Epoch: 0051', 'train_acc= 0.9071', 'test_acc= 0.7690')\n",
      "Epoch 53/500\n"
     ]
    },
    {
     "name": "stdout",
     "output_type": "stream",
     "text": [
      "\r",
      "2708/2708 [==============================] - 1s 485us/step - loss: 1.2623 - acc: 0.3826\n"
     ]
    }
   ],
   "source": [
    "model.fit(X, Y_train, sample_weight=train_mask, batch_size=A.shape[0], epochs=500, shuffle=False, callbacks=[EdgeEval()], verbose=1)"
   ]
  },
  {
   "cell_type": "markdown",
   "metadata": {
    "colab": {
     "base_uri": "https://localhost:8080/",
     "height": 1295
    },
    "colab_type": "code",
    "id": "3lOBizVa4rVt",
    "outputId": "a3142dd2-4ff0-4bb6-a833-a7046f4e0596"
   },
   "source": [
    "<span style=\"float:right;\">[[source]](https://github.com/vermaMachineLearning/keras-deep-graph-learning/blob/master/keras_dgl/layers/graph_attention_cnn_layer.py#L10)</span>\n",
    "## GraphAttentionCNN\n",
    "\n",
    "```python\n",
    "GraphAttentionCNN(output_dim, adjacency_matrix, num_filters=None, graph_conv_filters=None, activation=None, use_bias=False, kernel_initializer='glorot_uniform', bias_initializer='zeros', kernel_regularizer=None, bias_regularizer=None, activity_regularizer=None, kernel_constraint=None, bias_constraint=None)\n",
    "```\n",
    "\n",
    "GraphAttention layer assumes a fixed input graph structure which is passed as a layer argument. As a result, the input order of graph nodes are fixed for the model and should match the nodes order in inputs. Also, graph structure can not be changed once the model is compiled. This choice enable us to use Keras Sequential API but comes with some constraints (for instance shuffling is not  possible anymore in-or-after each epoch). See further [remarks below](http://127.0.0.1:8000/Layers/Convolution/graph_conv_layer/#remarks) about this specific choice.<br />\n",
    "\n",
    "\n",
    "__Arguments__\n",
    "\n",
    "- __output_dim__: Positive integer, dimensionality of each graph node feature output space (or also referred dimension of graph node embedding).\n",
    "- __adjacency_matrix__: input as a 2D tensor with shape: `(num_graph_nodes, num_graph_nodes)` with __diagonal values__ equal to 1.<br />\n",
    "- __num_filters__: None or Positive integer, number of graph filters used for constructing  __graph_conv_filters__ input.\n",
    "- __graph_conv_filters__: None or input as a 2D tensor with shape: `(num_filters*num_graph_nodes, num_graph_nodes)`<br />\n",
    "`num_filters` is different number of graph convolution filters to be applied on graph. For instance `num_filters` could be power of graph Laplacian. Here list of graph convolutional matrices are stacked along second-last axis.<br />\n",
    "- __activation__: Activation function to use\n",
    "(see [activations](../activations.md)).\n",
    "If you don't specify anything, no activation is applied\n",
    "(ie. \"linear\" activation: `a(x) = x`).\n",
    "- __use_bias__: Boolean, whether the layer uses a bias vector (recommended setting is False for this layer).\n",
    "- __kernel_initializer__: Initializer for the `kernel` weights matrix\n",
    "(see [initializers](../initializers.md)).\n",
    "- __bias_initializer__: Initializer for the bias vector\n",
    "(see [initializers](../initializers.md)).\n",
    "- __kernel_regularizer__: Regularizer function applied to\n",
    "the `kernel` weights matrix\n",
    "(see [regularizer](../regularizers.md)).\n",
    "- __bias_regularizer__: Regularizer function applied to the bias vector\n",
    "(see [regularizer](../regularizers.md)).\n",
    "- __activity_regularizer__: Regularizer function applied to\n",
    "the output of the layer (its \"activation\").\n",
    "(see [regularizer](../regularizers.md)).\n",
    "- __kernel_constraint__: Constraint function applied to the kernel matrix\n",
    "(see [constraints](https://keras.io/constraints/)).\n",
    "- __bias_constraint__: Constraint function applied to the bias vector\n",
    "(see [constraints](https://keras.io/constraints/)).\n",
    "\n",
    "\n",
    "\n",
    "__Input shapes__\n",
    "\n",
    "* 2D tensor with shape: `(num_graph_nodes, input_dim)` representing graph node input feature matrix.<br />\n",
    "\n",
    "\n",
    "__Output shape__\n",
    "\n",
    "* 2D tensor with shape: `(num_graph_nodes, output_dim)`\trepresenting convoluted output graph node embedding (or signal) matrix.<br />\n",
    "\n",
    "\n",
    "<span style=\"float:right;\">[[source]](https://github.com/vermaMachineLearning/keras-deep-graph-learning/blob/master/examples/graph_attention_cnn_node_classification_example.py)</span>"
   ]
  },
  {
   "cell_type": "code",
   "execution_count": 8,
   "metadata": {
    "colab": {
     "base_uri": "https://localhost:8080/",
     "height": 1295
    },
    "colab_type": "code",
    "id": "3lOBizVa4rVt",
    "outputId": "a3142dd2-4ff0-4bb6-a833-a7046f4e0596"
   },
   "outputs": [
    {
     "name": "stdout",
     "output_type": "stream",
     "text": [
      "(5416, 2708)\n",
      "_________________________________________________________________\n",
      "Layer (type)                 Output Shape              Param #   \n",
      "=================================================================\n",
      "input_3 (InputLayer)         (None, 1433)              0         \n",
      "_________________________________________________________________\n",
      "graph_attention_cnn_3 (Graph (None, 64)                183552    \n",
      "_________________________________________________________________\n",
      "dropout_18 (Dropout)         (None, 64)                0         \n",
      "_________________________________________________________________\n",
      "graph_attention_cnn_4 (Graph (None, 7)                 910       \n",
      "_________________________________________________________________\n",
      "activation_1 (Activation)    (None, 7)                 0         \n",
      "=================================================================\n",
      "Total params: 184,462\n",
      "Trainable params: 184,462\n",
      "Non-trainable params: 0\n",
      "_________________________________________________________________\n"
     ]
    }
   ],
   "source": [
    "A_norm = normalize_adj_numpy(A, True)\n",
    "num_filters = 2\n",
    "graph_conv_filters = np.concatenate([A_norm, np.matmul(A_norm, A_norm)], axis=0)\n",
    "print graph_conv_filters.shape\n",
    "\n",
    "graph_conv_filters = K.constant(graph_conv_filters)\n",
    "\n",
    "\n",
    "# Build Model\n",
    "inp = Input(shape=(X.shape[1],))\n",
    "x = GraphAttentionCNN(8, A, num_filters, graph_conv_filters, num_attention_heads=8, attention_combine='concat', attention_dropout=0.6, activation='elu', kernel_regularizer=l2(5e-4))(inp)\n",
    "x = Dropout(0.6)(x)\n",
    "x = GraphAttentionCNN(Y_train.shape[1], A, num_filters, graph_conv_filters, num_attention_heads=1, attention_combine='average', attention_dropout=0.6, activation='elu', kernel_regularizer=l2(5e-4))(x)\n",
    "x = Activation('softmax')(x)\n",
    "\n",
    "model = Model(inputs = inp, outputs = x)\n",
    "model.compile(loss='categorical_crossentropy', optimizer=Adam(lr=0.01), metrics=['acc'])\n",
    "model.summary()"
   ]
  },
  {
   "cell_type": "code",
   "execution_count": null,
   "metadata": {
    "colab": {
     "base_uri": "https://localhost:8080/",
     "height": 1295
    },
    "colab_type": "code",
    "id": "3lOBizVa4rVt",
    "outputId": "a3142dd2-4ff0-4bb6-a833-a7046f4e0596",
    "scrolled": false
   },
   "outputs": [
    {
     "name": "stdout",
     "output_type": "stream",
     "text": [
      "Epoch 1/500\n",
      "2708/2708 [==============================] - 8s 3ms/step - loss: 2.0241 - acc: 0.2862\n",
      "('Epoch: 0000', 'train_acc= 0.3286', 'test_acc= 0.3160')\n",
      "Epoch 2/500\n",
      "2708/2708 [==============================] - 1s 450us/step - loss: 1.9416 - acc: 0.2803\n",
      "('Epoch: 0001', 'train_acc= 0.3857', 'test_acc= 0.3370')\n",
      "Epoch 3/500\n",
      "2708/2708 [==============================] - 1s 464us/step - loss: 1.8480 - acc: 0.2825\n",
      "('Epoch: 0002', 'train_acc= 0.4571', 'test_acc= 0.3740')\n",
      "Epoch 4/500\n",
      "2708/2708 [==============================] - 1s 455us/step - loss: 1.7959 - acc: 0.2640\n",
      "('Epoch: 0003', 'train_acc= 0.5571', 'test_acc= 0.4800')\n",
      "Epoch 5/500\n",
      "2708/2708 [==============================] - 1s 455us/step - loss: 1.7328 - acc: 0.2736\n",
      "('Epoch: 0004', 'train_acc= 0.6643', 'test_acc= 0.5370')\n",
      "Epoch 6/500\n",
      "2708/2708 [==============================] - 1s 455us/step - loss: 1.7295 - acc: 0.2899\n",
      "('Epoch: 0005', 'train_acc= 0.6929', 'test_acc= 0.5710')\n",
      "Epoch 7/500\n",
      "2708/2708 [==============================] - 1s 452us/step - loss: 1.6883 - acc: 0.3098\n",
      "('Epoch: 0006', 'train_acc= 0.7071', 'test_acc= 0.5920')\n",
      "Epoch 8/500\n",
      "2708/2708 [==============================] - 1s 450us/step - loss: 1.6136 - acc: 0.3072\n",
      "('Epoch: 0007', 'train_acc= 0.7214', 'test_acc= 0.6500')\n",
      "Epoch 9/500\n",
      "2708/2708 [==============================] - 1s 465us/step - loss: 1.5383 - acc: 0.3630\n",
      "('Epoch: 0008', 'train_acc= 0.7857', 'test_acc= 0.7170')\n",
      "Epoch 10/500\n",
      "2708/2708 [==============================] - 1s 503us/step - loss: 1.5522 - acc: 0.4106\n",
      "('Epoch: 0009', 'train_acc= 0.8000', 'test_acc= 0.7480')\n",
      "Epoch 11/500\n",
      "2708/2708 [==============================] - 1s 497us/step - loss: 1.4455 - acc: 0.4206\n",
      "('Epoch: 0010', 'train_acc= 0.8214', 'test_acc= 0.7520')\n",
      "Epoch 12/500\n",
      "2708/2708 [==============================] - 1s 497us/step - loss: 1.5340 - acc: 0.4369\n",
      "('Epoch: 0011', 'train_acc= 0.8500', 'test_acc= 0.7450')\n",
      "Epoch 13/500\n",
      "2708/2708 [==============================] - 1s 500us/step - loss: 1.4694 - acc: 0.4335\n",
      "('Epoch: 0012', 'train_acc= 0.8357', 'test_acc= 0.7440')\n",
      "Epoch 14/500\n",
      "2708/2708 [==============================] - 1s 487us/step - loss: 1.6028 - acc: 0.4324\n",
      "('Epoch: 0013', 'train_acc= 0.8714', 'test_acc= 0.7500')\n",
      "Epoch 15/500\n",
      "2708/2708 [==============================] - 1s 484us/step - loss: 1.4275 - acc: 0.4114\n",
      "('Epoch: 0014', 'train_acc= 0.8714', 'test_acc= 0.7490')\n",
      "Epoch 16/500\n",
      "2708/2708 [==============================] - 1s 516us/step - loss: 1.5044 - acc: 0.4446\n",
      "('Epoch: 0015', 'train_acc= 0.8714', 'test_acc= 0.7500')\n",
      "Epoch 17/500\n",
      "2708/2708 [==============================] - 1s 520us/step - loss: 1.3618 - acc: 0.4173\n",
      "('Epoch: 0016', 'train_acc= 0.8714', 'test_acc= 0.7520')\n",
      "Epoch 18/500\n",
      "2708/2708 [==============================] - 1s 514us/step - loss: 1.2946 - acc: 0.4040\n",
      "('Epoch: 0017', 'train_acc= 0.8714', 'test_acc= 0.7650')\n",
      "Epoch 19/500\n",
      "2708/2708 [==============================] - 1s 493us/step - loss: 1.3372 - acc: 0.3922\n",
      "('Epoch: 0018', 'train_acc= 0.9000', 'test_acc= 0.7760')\n",
      "Epoch 20/500\n",
      "2708/2708 [==============================] - 1s 479us/step - loss: 1.4050 - acc: 0.3900\n",
      "('Epoch: 0019', 'train_acc= 0.9000', 'test_acc= 0.7950')\n",
      "Epoch 21/500\n",
      "2708/2708 [==============================] - 1s 485us/step - loss: 1.3288 - acc: 0.3833\n",
      "('Epoch: 0020', 'train_acc= 0.9000', 'test_acc= 0.8080')\n",
      "Epoch 22/500\n",
      "2708/2708 [==============================] - 1s 480us/step - loss: 1.4124 - acc: 0.3807\n",
      "('Epoch: 0021', 'train_acc= 0.9000', 'test_acc= 0.8120')\n",
      "Epoch 23/500\n",
      "2708/2708 [==============================] - 1s 482us/step - loss: 1.2113 - acc: 0.4114\n",
      "('Epoch: 0022', 'train_acc= 0.8929', 'test_acc= 0.8170')\n",
      "Epoch 24/500\n",
      "2708/2708 [==============================] - 1s 455us/step - loss: 1.2723 - acc: 0.4014\n",
      "('Epoch: 0023', 'train_acc= 0.9000', 'test_acc= 0.8050')\n",
      "Epoch 25/500\n",
      "2708/2708 [==============================] - 1s 456us/step - loss: 1.2888 - acc: 0.4188\n",
      "('Epoch: 0024', 'train_acc= 0.8786', 'test_acc= 0.7720')\n",
      "Epoch 26/500\n",
      "2708/2708 [==============================] - 1s 532us/step - loss: 1.2139 - acc: 0.4173\n",
      "('Epoch: 0025', 'train_acc= 0.8786', 'test_acc= 0.7530')\n",
      "Epoch 27/500\n",
      "2708/2708 [==============================] - 1s 494us/step - loss: 1.3807 - acc: 0.4125\n",
      "('Epoch: 0026', 'train_acc= 0.9000', 'test_acc= 0.7920')\n",
      "Epoch 28/500\n",
      "2708/2708 [==============================] - 1s 463us/step - loss: 1.2214 - acc: 0.4084\n",
      "('Epoch: 0027', 'train_acc= 0.9286', 'test_acc= 0.7990')\n",
      "Epoch 29/500\n",
      "2708/2708 [==============================] - 1s 495us/step - loss: 1.2874 - acc: 0.4221\n",
      "('Epoch: 0028', 'train_acc= 0.9357', 'test_acc= 0.8070')\n",
      "Epoch 30/500\n",
      "2708/2708 [==============================] - 1s 483us/step - loss: 1.0751 - acc: 0.4051\n",
      "('Epoch: 0029', 'train_acc= 0.9357', 'test_acc= 0.8130')\n",
      "Epoch 31/500\n",
      "2708/2708 [==============================] - 1s 507us/step - loss: 1.2357 - acc: 0.3900\n",
      "('Epoch: 0030', 'train_acc= 0.9357', 'test_acc= 0.8150')\n",
      "Epoch 32/500\n",
      "2708/2708 [==============================] - 1s 504us/step - loss: 1.1257 - acc: 0.3885\n",
      "('Epoch: 0031', 'train_acc= 0.9286', 'test_acc= 0.8230')\n",
      "Epoch 33/500\n",
      "2708/2708 [==============================] - 1s 498us/step - loss: 1.2318 - acc: 0.3696\n",
      "('Epoch: 0032', 'train_acc= 0.9214', 'test_acc= 0.8200')\n",
      "Epoch 34/500\n",
      "2708/2708 [==============================] - 1s 508us/step - loss: 1.2291 - acc: 0.3940\n",
      "('Epoch: 0033', 'train_acc= 0.9214', 'test_acc= 0.8190')\n",
      "Epoch 35/500\n",
      "2708/2708 [==============================] - 1s 473us/step - loss: 1.2293 - acc: 0.3837\n",
      "('Epoch: 0034', 'train_acc= 0.9286', 'test_acc= 0.8250')\n",
      "Epoch 36/500\n",
      "2708/2708 [==============================] - 1s 468us/step - loss: 1.2311 - acc: 0.3711\n",
      "('Epoch: 0035', 'train_acc= 0.9214', 'test_acc= 0.8110')\n",
      "Epoch 37/500\n",
      "2708/2708 [==============================] - 1s 463us/step - loss: 1.1819 - acc: 0.3770\n",
      "('Epoch: 0036', 'train_acc= 0.9214', 'test_acc= 0.7980')\n",
      "Epoch 38/500\n",
      "2708/2708 [==============================] - 1s 458us/step - loss: 1.2054 - acc: 0.3848\n",
      "('Epoch: 0037', 'train_acc= 0.9071', 'test_acc= 0.7880')\n",
      "Epoch 39/500\n",
      "2708/2708 [==============================] - 1s 483us/step - loss: 1.2456 - acc: 0.3874\n",
      "('Epoch: 0038', 'train_acc= 0.8929', 'test_acc= 0.7540')\n",
      "Epoch 40/500\n",
      "2708/2708 [==============================] - 1s 469us/step - loss: 1.1164 - acc: 0.4106\n",
      "('Epoch: 0039', 'train_acc= 0.8857', 'test_acc= 0.7640')\n",
      "Epoch 41/500\n",
      "2708/2708 [==============================] - 1s 507us/step - loss: 1.1458 - acc: 0.4147\n",
      "('Epoch: 0040', 'train_acc= 0.9071', 'test_acc= 0.7940')\n",
      "Epoch 42/500\n",
      "2708/2708 [==============================] - 1s 488us/step - loss: 1.2164 - acc: 0.4014\n",
      "('Epoch: 0041', 'train_acc= 0.9071', 'test_acc= 0.8120')\n",
      "Epoch 43/500\n",
      "2708/2708 [==============================] - 1s 510us/step - loss: 1.1375 - acc: 0.4210\n",
      "('Epoch: 0042', 'train_acc= 0.9214', 'test_acc= 0.8180')\n",
      "Epoch 44/500\n",
      "2708/2708 [==============================] - 1s 484us/step - loss: 1.0601 - acc: 0.4058\n",
      "('Epoch: 0043', 'train_acc= 0.9214', 'test_acc= 0.8180')\n",
      "Epoch 45/500\n",
      "2708/2708 [==============================] - 1s 475us/step - loss: 1.0302 - acc: 0.3981\n",
      "('Epoch: 0044', 'train_acc= 0.9286', 'test_acc= 0.8200')\n",
      "Epoch 46/500\n",
      "2708/2708 [==============================] - 1s 514us/step - loss: 1.0910 - acc: 0.3940\n",
      "('Epoch: 0045', 'train_acc= 0.9357', 'test_acc= 0.8190')\n",
      "Epoch 47/500\n",
      "2708/2708 [==============================] - 1s 499us/step - loss: 1.1766 - acc: 0.3685\n",
      "('Epoch: 0046', 'train_acc= 0.9357', 'test_acc= 0.8170')\n",
      "Epoch 48/500\n",
      "2708/2708 [==============================] - 1s 486us/step - loss: 1.3133 - acc: 0.3874\n",
      "('Epoch: 0047', 'train_acc= 0.9286', 'test_acc= 0.8200')\n",
      "Epoch 49/500\n",
      "2708/2708 [==============================] - 1s 527us/step - loss: 1.1203 - acc: 0.3678\n",
      "('Epoch: 0048', 'train_acc= 0.9357', 'test_acc= 0.8110')\n",
      "Epoch 50/500\n",
      "2708/2708 [==============================] - 1s 496us/step - loss: 1.1291 - acc: 0.3900\n",
      "('Epoch: 0049', 'train_acc= 0.8929', 'test_acc= 0.7740')\n",
      "Epoch 51/500\n",
      "2708/2708 [==============================] - 1s 496us/step - loss: 1.1149 - acc: 0.3652\n",
      "('Epoch: 0050', 'train_acc= 0.9000', 'test_acc= 0.7700')\n",
      "Epoch 52/500\n",
      "2708/2708 [==============================] - 1s 515us/step - loss: 1.1717 - acc: 0.3612\n",
      "('Epoch: 0051', 'train_acc= 0.9071', 'test_acc= 0.7690')\n",
      "Epoch 53/500\n"
     ]
    },
    {
     "name": "stdout",
     "output_type": "stream",
     "text": [
      "2708/2708 [==============================] - 1s 485us/step - loss: 1.2623 - acc: 0.3826\n",
      "('Epoch: 0052', 'train_acc= 0.9357', 'test_acc= 0.8000')\n",
      "Epoch 54/500\n",
      "2708/2708 [==============================] - 1s 500us/step - loss: 1.1155 - acc: 0.3844\n",
      "('Epoch: 0053', 'train_acc= 0.9286', 'test_acc= 0.8230')\n",
      "Epoch 55/500\n",
      "2708/2708 [==============================] - 1s 498us/step - loss: 1.1201 - acc: 0.3859\n",
      "('Epoch: 0054', 'train_acc= 0.9429', 'test_acc= 0.8270')\n",
      "Epoch 56/500\n",
      "2708/2708 [==============================] - 1s 513us/step - loss: 1.1129 - acc: 0.3992\n",
      "('Epoch: 0055', 'train_acc= 0.9429', 'test_acc= 0.8300')\n",
      "Epoch 57/500\n",
      "2708/2708 [==============================] - 1s 480us/step - loss: 1.1159 - acc: 0.3959\n",
      "('Epoch: 0056', 'train_acc= 0.9286', 'test_acc= 0.8290')\n",
      "Epoch 58/500\n",
      "2708/2708 [==============================] - 1s 516us/step - loss: 1.1040 - acc: 0.3903\n",
      "('Epoch: 0057', 'train_acc= 0.9286', 'test_acc= 0.8280')\n",
      "Epoch 59/500\n",
      "2708/2708 [==============================] - 1s 495us/step - loss: 1.0555 - acc: 0.3811\n",
      "('Epoch: 0058', 'train_acc= 0.9357', 'test_acc= 0.8290')\n",
      "Epoch 60/500\n",
      "2708/2708 [==============================] - 1s 487us/step - loss: 1.0071 - acc: 0.3936\n",
      "('Epoch: 0059', 'train_acc= 0.9429', 'test_acc= 0.8240')\n",
      "Epoch 61/500\n",
      "2708/2708 [==============================] - 1s 475us/step - loss: 1.0485 - acc: 0.3925\n",
      "('Epoch: 0060', 'train_acc= 0.9357', 'test_acc= 0.8280')\n",
      "Epoch 62/500\n"
     ]
    }
   ],
   "source": [
    "model.fit(X, Y_train, sample_weight=train_mask, batch_size=A.shape[0], epochs=500, shuffle=False, callbacks=[EdgeEval()], verbose=1)"
   ]
  }
 ],
 "metadata": {
  "colab": {
   "collapsed_sections": [],
   "name": "dqn-atari-jupyter.ipynb",
   "provenance": [],
   "version": "0.3.2"
  },
  "jupytext": {
   "formats": "ipynb,py:light"
  },
  "kernelspec": {
   "display_name": "Python 2",
   "language": "python",
   "name": "python2"
  },
  "language_info": {
   "codemirror_mode": {
    "name": "ipython",
    "version": 2
   },
   "file_extension": ".py",
   "mimetype": "text/x-python",
   "name": "python",
   "nbconvert_exporter": "python",
   "pygments_lexer": "ipython2",
   "version": "2.7.15"
  }
 },
 "nbformat": 4,
 "nbformat_minor": 2
}
