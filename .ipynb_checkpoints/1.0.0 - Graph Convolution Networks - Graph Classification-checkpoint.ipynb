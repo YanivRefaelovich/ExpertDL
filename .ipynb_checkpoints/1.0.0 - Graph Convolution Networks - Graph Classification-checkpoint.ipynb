{
 "cells": [
  {
   "cell_type": "markdown",
   "metadata": {},
   "source": [
    "------"
   ]
  },
  {
   "cell_type": "markdown",
   "metadata": {},
   "source": [
    "<div> \n",
    "    <center><h5>Higher Order Tutorial on Deep Learning</h5></center>\n",
    "    <center><strong><h2>Graph Convolution Networks</h2></strong></center>\n",
    "    <center><strong><h3>1.0.0 - Graph Classification</h3></strong></center> \n",
    "<div>"
   ]
  },
  {
   "cell_type": "markdown",
   "metadata": {},
   "source": [
    "------"
   ]
  },
  {
   "cell_type": "markdown",
   "metadata": {},
   "source": [
    "### Keras DGL - Node Classification:\n",
    "##  `tl;dr:  MutliGraphCNN(output_dim, num_filters)([X,Adj])`\n",
    "\n",
    "Importing: \n",
    "```python\n",
    "from keras_dgl.layers import MutliGraphCNN\n",
    "```\n",
    "\n",
    "Just like any keras model: \n",
    "```python\n",
    "output = MultiGraphCNN(100, num_filters, activation='elu')([X, Adj])\n",
    "output = MultiGraphCNN(100, num_filters, activation='elu')([output, Adj])\n",
    "output = Lambda(lambda x: K.mean(x, axis=1))(output)  \n",
    "```"
   ]
  },
  {
   "cell_type": "markdown",
   "metadata": {},
   "source": [
    "------"
   ]
  },
  {
   "cell_type": "markdown",
   "metadata": {
    "slideshow": {
     "slide_type": "slide"
    }
   },
   "source": [
    "# Graph Neural Networks"
   ]
  },
  {
   "cell_type": "markdown",
   "metadata": {
    "colab": {
     "base_uri": "https://localhost:8080/",
     "height": 1295
    },
    "colab_type": "code",
    "id": "3lOBizVa4rVt",
    "outputId": "a3142dd2-4ff0-4bb6-a833-a7046f4e0596"
   },
   "source": [
    "\n",
    "Mathematically, the GCN model follows this formula:\n",
    "\n",
    "$H^{(l+1)} = \\sigma(\\tilde{D}^{-\\frac{1}{2}}\\tilde{A}\\tilde{D}^{-\\frac{1}{2}}H^{(l)}W^{(l)})$\n",
    "\n",
    "Here, $H^{(l)}$ denotes the $l^{th}$ layer in the network,\n",
    "$\\sigma$ is the non-linearity, and $W$ is the weight matrix for\n",
    "this layer. $D$ and $A$, as commonly seen, represent degree\n",
    "matrix and adjacency matrix, respectively. The ~ is a renormalization trick\n",
    "in which we add a self-connection to each node of the graph, and build the\n",
    "corresponding degree and adjacency matrix.  The shape of the input\n",
    "$H^{(0)}$ is $N \\times D$, where $N$ is the number of nodes\n",
    "and $D$ is the number of input features. We can chain up multiple\n",
    "layers as such to produce a node-level representation output with shape\n",
    "$N \\times F$, where $F$ is the dimension of the output node\n",
    "feature vector.\n",
    "\n",
    "The equation can be efficiently implemented using sparse matrix\n",
    "multiplication kernels (such as Kipf's\n",
    "`https://github.com/tkipf/pygcn`). The above DGL implementation\n",
    "in fact has already used this trick due to the use of builtin functions. To\n",
    "understand what is under the hood, please read the tutorial on page rank specified in this repository.\n",
    "\n",
    "__References__: <br />\n",
    "[1] Kipf, Thomas N., and Max Welling. \"Semi-supervised classification with graph convolutional networks.\" arXiv preprint arXiv:1609.02907 (2016). <br />\n",
    "[2] Defferrard, Michaël, Xavier Bresson, and Pierre Vandergheynst. \"Convolutional neural networks on graphs with fast localized spectral filtering.\" In Advances in Neural Information Processing Systems, pp. 3844-3852. 2016. <br />\n",
    "[3] Simonovsky, Martin, and Nikos Komodakis. \"Dynamic edge-conditioned filters in convolutional neural networks on graphs.\" In Proc. CVPR. 2017. <br />"
   ]
  },
  {
   "cell_type": "code",
   "execution_count": 1,
   "metadata": {
    "colab": {
     "base_uri": "https://localhost:8080/",
     "height": 1295
    },
    "colab_type": "code",
    "id": "3lOBizVa4rVt",
    "outputId": "a3142dd2-4ff0-4bb6-a833-a7046f4e0596"
   },
   "outputs": [],
   "source": [
    "%%bash\n",
    "if [ ! -d \"keras-deep-graph-learning\" ] ; then git clone https://github.com/ypeleg/keras-deep-graph-learning; fi"
   ]
  },
  {
   "cell_type": "code",
   "execution_count": 2,
   "metadata": {
    "colab": {
     "base_uri": "https://localhost:8080/",
     "height": 1295
    },
    "colab_type": "code",
    "id": "3lOBizVa4rVt",
    "outputId": "a3142dd2-4ff0-4bb6-a833-a7046f4e0596"
   },
   "outputs": [
    {
     "name": "stderr",
     "output_type": "stream",
     "text": [
      "Using TensorFlow backend.\n"
     ]
    }
   ],
   "source": [
    "from tachles import fix_gcn_paths, load_mutag"
   ]
  },
  {
   "cell_type": "code",
   "execution_count": 3,
   "metadata": {
    "colab": {
     "base_uri": "https://localhost:8080/",
     "height": 1295
    },
    "colab_type": "code",
    "id": "3lOBizVa4rVt",
    "outputId": "a3142dd2-4ff0-4bb6-a833-a7046f4e0596"
   },
   "outputs": [],
   "source": [
    "fix_gcn_paths()\n",
    "import keras_dgl\n",
    "from keras_dgl.layers import MultiGraphCNN, MultiGraphAttentionCNN\n",
    "from examples.utils import normalize_adj_numpy, evaluate_preds, preprocess_edge_adj_tensor"
   ]
  },
  {
   "cell_type": "markdown",
   "metadata": {
    "colab": {
     "base_uri": "https://localhost:8080/",
     "height": 1295
    },
    "colab_type": "code",
    "id": "3lOBizVa4rVt",
    "outputId": "a3142dd2-4ff0-4bb6-a833-a7046f4e0596"
   },
   "source": [
    "## The MUTAG Dataset\n",
    "\n",
    "The MUTAG dataset is distributed baseline dataset for graph learning. It contains information about 340 complex molecules that are potentially carcinogenic, which is given by the isMutagenic property.\n",
    "\n",
    "The molecules can be classified as “mutagenic” or “not mutagenic”."
   ]
  },
  {
   "cell_type": "code",
   "execution_count": 4,
   "metadata": {
    "colab": {
     "base_uri": "https://localhost:8080/",
     "height": 1295
    },
    "colab_type": "code",
    "id": "3lOBizVa4rVt",
    "outputId": "a3142dd2-4ff0-4bb6-a833-a7046f4e0596"
   },
   "outputs": [
    {
     "name": "stdout",
     "output_type": "stream",
     "text": [
      "(188, 28, 7) (188, 2) (188, 308, 28)\n"
     ]
    }
   ],
   "source": [
    "A, A_orig, X, Y, num_edge_features, num_graph_nodes, num_graphs, orig_num_graph_nodes, orig_num_graphs = load_mutag()\n",
    "print X.shape, Y.shape, A.shape"
   ]
  },
  {
   "cell_type": "code",
   "execution_count": 5,
   "metadata": {
    "colab": {
     "base_uri": "https://localhost:8080/",
     "height": 1295
    },
    "colab_type": "code",
    "id": "3lOBizVa4rVt",
    "outputId": "a3142dd2-4ff0-4bb6-a833-a7046f4e0596"
   },
   "outputs": [],
   "source": [
    "import keras.backend as K\n",
    "import numpy as np\n",
    "import networkx as nx\n",
    "import matplotlib.pyplot as plt\n",
    "\n",
    "from keras.layers import Dense, Activation, Dropout, Input, Lambda\n",
    "from keras.models import Model, Sequential\n",
    "from keras.callbacks import Callback\n",
    "from keras.regularizers import l2\n",
    "from keras.optimizers import Adam"
   ]
  },
  {
   "cell_type": "code",
   "execution_count": 6,
   "metadata": {
    "colab": {
     "base_uri": "https://localhost:8080/",
     "height": 1295
    },
    "colab_type": "code",
    "id": "3lOBizVa4rVt",
    "lines_to_next_cell": 0,
    "outputId": "a3142dd2-4ff0-4bb6-a833-a7046f4e0596"
   },
   "outputs": [],
   "source": [
    "def plot_graph(adjacency_matrix):\n",
    "    rows, cols = np.where(adjacency_matrix == 1)\n",
    "    edges = zip(rows.tolist(), cols.tolist())\n",
    "    gr = nx.Graph()\n",
    "    gr.add_edges_from(edges)\n",
    "    fig, ax = plt.subplots(1, 1, figsize=(6, 6))\n",
    "    nx.draw_networkx(gr, ax=ax, with_labels=False, node_size=5, width=.5)\n",
    "    ax.set_axis_off()\n",
    "    plt.show()\n",
    "    plt.close()"
   ]
  },
  {
   "cell_type": "code",
   "execution_count": 7,
   "metadata": {
    "colab": {
     "base_uri": "https://localhost:8080/",
     "height": 1295
    },
    "colab_type": "code",
    "id": "3lOBizVa4rVt",
    "lines_to_next_cell": 0,
    "outputId": "a3142dd2-4ff0-4bb6-a833-a7046f4e0596"
   },
   "outputs": [
    {
     "name": "stdout",
     "output_type": "stream",
     "text": [
      "[[0 0 1 0 0 0 0]\n",
      " [0 0 1 0 0 0 0]\n",
      " [0 0 1 0 0 0 0]\n",
      " [0 0 1 0 0 0 0]\n",
      " [0 0 1 0 0 0 0]\n",
      " [0 0 1 0 0 0 0]\n",
      " [0 0 1 0 0 0 0]\n",
      " [0 0 1 0 0 0 0]\n",
      " [0 0 1 0 0 0 0]\n",
      " [0 0 1 0 0 0 0]\n",
      " [0 0 0 0 0 1 0]\n",
      " [0 0 0 0 0 0 1]\n",
      " [0 0 0 0 0 0 1]\n",
      " [0 0 0 0 0 0 0]\n",
      " [0 0 0 0 0 0 0]\n",
      " [0 0 0 0 0 0 0]\n",
      " [0 0 0 0 0 0 0]\n",
      " [0 0 0 0 0 0 0]\n",
      " [0 0 0 0 0 0 0]\n",
      " [0 0 0 0 0 0 0]\n",
      " [0 0 0 0 0 0 0]\n",
      " [0 0 0 0 0 0 0]\n",
      " [0 0 0 0 0 0 0]\n",
      " [0 0 0 0 0 0 0]\n",
      " [0 0 0 0 0 0 0]\n",
      " [0 0 0 0 0 0 0]\n",
      " [0 0 0 0 0 0 0]\n",
      " [0 0 0 0 0 0 0]]\n"
     ]
    }
   ],
   "source": [
    "print X[0]\n",
    "# plot_graph(A)"
   ]
  },
  {
   "cell_type": "markdown",
   "metadata": {
    "colab": {
     "base_uri": "https://localhost:8080/",
     "height": 1295
    },
    "colab_type": "code",
    "id": "3lOBizVa4rVt",
    "outputId": "a3142dd2-4ff0-4bb6-a833-a7046f4e0596"
   },
   "source": [
    "----\n",
    "\n",
    "<span style=\"float:right;\">[[source]](https://github.com/vermaMachineLearning/keras-deep-graph-learning/blob/master/keras_dgl/layers/multi_graph_cnn_layer.py#L9)</span>\n",
    "## MutliGraphCNN\n",
    "\n",
    "```python\n",
    "MutliGraphCNN(output_dim, num_filters, activation=None, use_bias=True, kernel_initializer='glorot_uniform', bias_initializer='zeros', kernel_regularizer=None, bias_regularizer=None, activity_regularizer=None, kernel_constraint=None, bias_constraint=None)\n",
    "```\n",
    "\n",
    "MutliGraphCNN assumes that the number of nodes for each graph in the dataset is same. For graph with arbitrary size, one can simply append appropriate zero rows or columns in adjacency matrix (and node feature matrix) based on max graph size in the dataset to achieve this uniformity.\n",
    "\n",
    "__Arguments__\n",
    "\n",
    "- __output_dim__: Positive integer, dimensionality of each graph node feature output space (or also referred dimension of graph node embedding).\n",
    "- __num_filters__: Positive integer, number of graph filters used for constructing  __graph_conv_filters__ input.\n",
    "- __activation__: Activation function to use\n",
    ".\n",
    "If you don't specify anything, no activation is applied\n",
    "(ie. \"linear\" activation: `a(x) = x`).\n",
    "- __use_bias__: Boolean, whether the layer uses a bias vector.\n",
    "- __kernel_initializer__: Initializer for the `kernel` weights matrix\n",
    ".\n",
    "- __bias_initializer__: Initializer for the bias vector\n",
    ".\n",
    "- __kernel_regularizer__: Regularizer function applied to\n",
    "the `kernel` weights matrix\n",
    ".\n",
    "- __bias_regularizer__: Regularizer function applied to the bias vector\n",
    ".\n",
    "- __activity_regularizer__: Regularizer function applied to\n",
    "the output of the layer (its \"activation\").\n",
    ".\n",
    "- __kernel_constraint__: Constraint function applied to the kernel matrix\n",
    ".\n",
    "- __bias_constraint__: Constraint function applied to the bias vector\n",
    ".\n",
    "\n",
    "__Input shapes__\n",
    "\n",
    "* __graph node feature matrix__ input as a 3D tensor with shape: `(batch_size, num_graph_nodes, input_dim)` corresponding to graph node input feature matrix for each graph.<br />\n",
    "* __graph_conv_filters__ input as a 3D tensor with shape: `(batch_size, num_filters*num_graph_nodes, num_graph_nodes)` <br />\n",
    "`num_filters` is different number of graph convolution filters to be applied on graph. For instance `num_filters` could be power of graph Laplacian.<br />\n",
    "\n",
    "__Output shape__\n",
    "\n",
    "* 3D tensor with shape: `(batch_size, num_graph_nodes, output_dim)`\trepresenting convoluted output graph node embedding matrix for each graph in batch size.<br />\n",
    "\n",
    "\n",
    "\n",
    "<span style=\"float:right;\">[[source]](https://github.com/vermaMachineLearning/keras-deep-graph-learning/blob/master/examples/multi_gcnn_graph_classification_example.py)</span>"
   ]
  },
  {
   "cell_type": "markdown",
   "metadata": {
    "colab": {
     "base_uri": "https://localhost:8080/",
     "height": 1295
    },
    "colab_type": "code",
    "id": "3lOBizVa4rVt",
    "outputId": "a3142dd2-4ff0-4bb6-a833-a7046f4e0596"
   },
   "source": [
    "## The model itself"
   ]
  },
  {
   "cell_type": "code",
   "execution_count": 8,
   "metadata": {
    "colab": {
     "base_uri": "https://localhost:8080/",
     "height": 1295
    },
    "colab_type": "code",
    "id": "3lOBizVa4rVt",
    "outputId": "a3142dd2-4ff0-4bb6-a833-a7046f4e0596"
   },
   "outputs": [],
   "source": [
    "num_filters = num_edge_features\n",
    "graph_conv_filters = preprocess_edge_adj_tensor(A, symmetric=True)"
   ]
  },
  {
   "cell_type": "code",
   "execution_count": 9,
   "metadata": {
    "colab": {
     "base_uri": "https://localhost:8080/",
     "height": 1295
    },
    "colab_type": "code",
    "id": "3lOBizVa4rVt",
    "outputId": "a3142dd2-4ff0-4bb6-a833-a7046f4e0596"
   },
   "outputs": [
    {
     "name": "stdout",
     "output_type": "stream",
     "text": [
      "__________________________________________________________________________________________________\n",
      "Layer (type)                    Output Shape         Param #     Connected to                     \n",
      "==================================================================================================\n",
      "input_1 (InputLayer)            (None, 28, 7)        0                                            \n",
      "__________________________________________________________________________________________________\n",
      "input_2 (InputLayer)            (None, 308, 28)      0                                            \n",
      "__________________________________________________________________________________________________\n",
      "multi_graph_cnn_1 (MultiGraphCN (None, 28, 100)      7800        input_1[0][0]                    \n",
      "                                                                 input_2[0][0]                    \n",
      "__________________________________________________________________________________________________\n",
      "dropout_1 (Dropout)             (None, 28, 100)      0           multi_graph_cnn_1[0][0]          \n",
      "__________________________________________________________________________________________________\n",
      "multi_graph_cnn_2 (MultiGraphCN (None, 28, 100)      110100      dropout_1[0][0]                  \n",
      "                                                                 input_2[0][0]                    \n",
      "__________________________________________________________________________________________________\n",
      "dropout_2 (Dropout)             (None, 28, 100)      0           multi_graph_cnn_2[0][0]          \n",
      "__________________________________________________________________________________________________\n",
      "lambda_1 (Lambda)               (None, 100)          0           dropout_2[0][0]                  \n",
      "__________________________________________________________________________________________________\n",
      "dense_1 (Dense)                 (None, 2)            202         lambda_1[0][0]                   \n",
      "__________________________________________________________________________________________________\n",
      "activation_1 (Activation)       (None, 2)            0           dense_1[0][0]                    \n",
      "==================================================================================================\n",
      "Total params: 118,102\n",
      "Trainable params: 118,102\n",
      "Non-trainable params: 0\n",
      "__________________________________________________________________________________________________\n"
     ]
    }
   ],
   "source": [
    "X_input = Input(shape=(X.shape[1], X.shape[2]))\n",
    "graph_conv_filters_input = Input(shape=(graph_conv_filters.shape[1], graph_conv_filters.shape[2]))\n",
    "\n",
    "output = MultiGraphCNN(100, num_filters, activation='elu')([X_input, graph_conv_filters_input])\n",
    "output = Dropout(0.2)(output)\n",
    "output = MultiGraphCNN(100, num_filters, activation='elu')([output, graph_conv_filters_input])\n",
    "output = Dropout(0.2)(output)\n",
    "output = Lambda(lambda x: K.mean(x, axis=1))(output)  \n",
    "output = Dense(Y.shape[1])(output)\n",
    "output = Activation('softmax')(output)\n",
    "\n",
    "nb_epochs = 200\n",
    "batch_size = 169\n",
    "\n",
    "model = Model(inputs=[X_input, graph_conv_filters_input], outputs=output)\n",
    "model.compile(loss='categorical_crossentropy', optimizer='adam', metrics=['acc'])\n",
    "model.summary()"
   ]
  },
  {
   "cell_type": "code",
   "execution_count": null,
   "metadata": {
    "colab": {
     "base_uri": "https://localhost:8080/",
     "height": 1295
    },
    "colab_type": "code",
    "id": "3lOBizVa4rVt",
    "outputId": "a3142dd2-4ff0-4bb6-a833-a7046f4e0596"
   },
   "outputs": [
    {
     "name": "stdout",
     "output_type": "stream",
     "text": [
      "Train on 169 samples, validate on 19 samples\n",
      "Epoch 1/200\n",
      "169/169 [==============================] - 0s 2ms/step - loss: 1.1826 - acc: 0.3254 - val_loss: 0.6614 - val_acc: 0.5789\n",
      "Epoch 2/200\n",
      "169/169 [==============================] - 0s 405us/step - loss: 0.5530 - acc: 0.6746 - val_loss: 0.9288 - val_acc: 0.5789\n",
      "Epoch 3/200\n",
      "169/169 [==============================] - 0s 401us/step - loss: 0.6636 - acc: 0.6746 - val_loss: 1.0836 - val_acc: 0.5789\n",
      "Epoch 4/200\n",
      "169/169 [==============================] - 0s 403us/step - loss: 0.7484 - acc: 0.6746 - val_loss: 1.0878 - val_acc: 0.5789\n",
      "Epoch 5/200\n",
      "169/169 [==============================] - 0s 424us/step - loss: 0.7366 - acc: 0.6746 - val_loss: 0.9995 - val_acc: 0.5789\n",
      "Epoch 6/200\n",
      "169/169 [==============================] - 0s 448us/step - loss: 0.6828 - acc: 0.6746 - val_loss: 0.8698 - val_acc: 0.5789\n",
      "Epoch 7/200\n",
      "169/169 [==============================] - 0s 403us/step - loss: 0.6029 - acc: 0.6746 - val_loss: 0.7431 - val_acc: 0.5789\n",
      "Epoch 8/200\n",
      "169/169 [==============================] - 0s 397us/step - loss: 0.5293 - acc: 0.6805 - val_loss: 0.6568 - val_acc: 0.6316\n",
      "Epoch 9/200\n",
      "169/169 [==============================] - 0s 405us/step - loss: 0.5046 - acc: 0.6805 - val_loss: 0.6267 - val_acc: 0.6316\n",
      "Epoch 10/200\n",
      "169/169 [==============================] - 0s 387us/step - loss: 0.5327 - acc: 0.7160 - val_loss: 0.6320 - val_acc: 0.5789\n",
      "Epoch 11/200\n",
      "169/169 [==============================] - 0s 426us/step - loss: 0.5659 - acc: 0.7160 - val_loss: 0.6361 - val_acc: 0.6316\n",
      "Epoch 12/200\n",
      "169/169 [==============================] - 0s 420us/step - loss: 0.5771 - acc: 0.7219 - val_loss: 0.6288 - val_acc: 0.5789\n",
      "Epoch 13/200\n",
      "169/169 [==============================] - 0s 404us/step - loss: 0.5600 - acc: 0.7041 - val_loss: 0.6220 - val_acc: 0.6316\n",
      "Epoch 14/200\n",
      "169/169 [==============================] - 0s 411us/step - loss: 0.5308 - acc: 0.7160 - val_loss: 0.6293 - val_acc: 0.6842\n",
      "Epoch 15/200\n",
      "169/169 [==============================] - 0s 517us/step - loss: 0.4942 - acc: 0.7219 - val_loss: 0.6530 - val_acc: 0.6316\n",
      "Epoch 16/200\n",
      "169/169 [==============================] - 0s 455us/step - loss: 0.4828 - acc: 0.7219 - val_loss: 0.6860 - val_acc: 0.6316\n",
      "Epoch 17/200\n",
      "169/169 [==============================] - 0s 451us/step - loss: 0.4925 - acc: 0.7219 - val_loss: 0.7177 - val_acc: 0.6316\n",
      "Epoch 18/200\n",
      "169/169 [==============================] - 0s 385us/step - loss: 0.4988 - acc: 0.7160 - val_loss: 0.7398 - val_acc: 0.6316\n",
      "Epoch 19/200\n",
      "169/169 [==============================] - 0s 454us/step - loss: 0.5035 - acc: 0.7160 - val_loss: 0.7479 - val_acc: 0.6316\n",
      "Epoch 20/200\n",
      "169/169 [==============================] - 0s 421us/step - loss: 0.5116 - acc: 0.7041 - val_loss: 0.7411 - val_acc: 0.6316\n",
      "Epoch 21/200\n",
      "169/169 [==============================] - 0s 421us/step - loss: 0.4973 - acc: 0.7219 - val_loss: 0.7221 - val_acc: 0.6316\n",
      "Epoch 22/200\n",
      "169/169 [==============================] - 0s 421us/step - loss: 0.4977 - acc: 0.7396 - val_loss: 0.6955 - val_acc: 0.6842\n",
      "Epoch 23/200\n",
      "169/169 [==============================] - 0s 433us/step - loss: 0.4802 - acc: 0.7456 - val_loss: 0.6663 - val_acc: 0.6842\n",
      "Epoch 24/200\n",
      "169/169 [==============================] - 0s 456us/step - loss: 0.4781 - acc: 0.7396 - val_loss: 0.6392 - val_acc: 0.7368\n",
      "Epoch 25/200\n",
      "169/169 [==============================] - 0s 446us/step - loss: 0.4641 - acc: 0.7515 - val_loss: 0.6174 - val_acc: 0.6842\n",
      "Epoch 26/200\n",
      "169/169 [==============================] - 0s 429us/step - loss: 0.4559 - acc: 0.7515 - val_loss: 0.6019 - val_acc: 0.6316\n",
      "Epoch 27/200\n",
      "169/169 [==============================] - 0s 406us/step - loss: 0.4673 - acc: 0.7574 - val_loss: 0.5919 - val_acc: 0.6316\n",
      "Epoch 28/200\n",
      "169/169 [==============================] - 0s 418us/step - loss: 0.4660 - acc: 0.7396 - val_loss: 0.5854 - val_acc: 0.6316\n",
      "Epoch 29/200\n",
      "169/169 [==============================] - 0s 429us/step - loss: 0.4604 - acc: 0.7278 - val_loss: 0.5815 - val_acc: 0.6316\n",
      "Epoch 30/200\n",
      "169/169 [==============================] - 0s 425us/step - loss: 0.4574 - acc: 0.7633 - val_loss: 0.5802 - val_acc: 0.6316\n",
      "Epoch 31/200\n",
      "169/169 [==============================] - 0s 436us/step - loss: 0.4530 - acc: 0.7692 - val_loss: 0.5820 - val_acc: 0.7368\n",
      "Epoch 32/200\n",
      "169/169 [==============================] - 0s 408us/step - loss: 0.4460 - acc: 0.7574 - val_loss: 0.5873 - val_acc: 0.7368\n",
      "Epoch 33/200\n",
      "169/169 [==============================] - 0s 402us/step - loss: 0.4367 - acc: 0.7692 - val_loss: 0.5951 - val_acc: 0.7368\n",
      "Epoch 34/200\n",
      "169/169 [==============================] - 0s 442us/step - loss: 0.4413 - acc: 0.7811 - val_loss: 0.6029 - val_acc: 0.7368\n",
      "Epoch 35/200\n",
      "169/169 [==============================] - 0s 409us/step - loss: 0.4380 - acc: 0.7751 - val_loss: 0.6083 - val_acc: 0.7368\n",
      "Epoch 36/200\n",
      "169/169 [==============================] - 0s 456us/step - loss: 0.4389 - acc: 0.7811 - val_loss: 0.6089 - val_acc: 0.7368\n",
      "Epoch 37/200\n",
      "169/169 [==============================] - 0s 391us/step - loss: 0.4329 - acc: 0.7692 - val_loss: 0.6037 - val_acc: 0.7368\n",
      "Epoch 38/200\n",
      "169/169 [==============================] - 0s 395us/step - loss: 0.4304 - acc: 0.7751 - val_loss: 0.5939 - val_acc: 0.7368\n",
      "Epoch 39/200\n",
      "169/169 [==============================] - 0s 353us/step - loss: 0.4274 - acc: 0.7870 - val_loss: 0.5805 - val_acc: 0.7368\n",
      "Epoch 40/200\n",
      "169/169 [==============================] - 0s 414us/step - loss: 0.4252 - acc: 0.7811 - val_loss: 0.5654 - val_acc: 0.7368\n",
      "Epoch 41/200\n",
      "169/169 [==============================] - 0s 420us/step - loss: 0.4219 - acc: 0.7751 - val_loss: 0.5512 - val_acc: 0.7368\n",
      "Epoch 42/200\n",
      "169/169 [==============================] - 0s 368us/step - loss: 0.4174 - acc: 0.7929 - val_loss: 0.5397 - val_acc: 0.7368\n",
      "Epoch 43/200\n",
      "169/169 [==============================] - 0s 432us/step - loss: 0.4154 - acc: 0.7811 - val_loss: 0.5316 - val_acc: 0.7368\n",
      "Epoch 44/200\n",
      "169/169 [==============================] - 0s 391us/step - loss: 0.4110 - acc: 0.8107 - val_loss: 0.5267 - val_acc: 0.6842\n",
      "Epoch 45/200\n",
      "169/169 [==============================] - 0s 380us/step - loss: 0.4184 - acc: 0.7811 - val_loss: 0.5246 - val_acc: 0.7368\n",
      "Epoch 46/200\n",
      "169/169 [==============================] - 0s 378us/step - loss: 0.4142 - acc: 0.7929 - val_loss: 0.5250 - val_acc: 0.7368\n",
      "Epoch 47/200\n",
      "169/169 [==============================] - 0s 359us/step - loss: 0.4043 - acc: 0.7988 - val_loss: 0.5282 - val_acc: 0.7368\n",
      "Epoch 48/200\n",
      "169/169 [==============================] - 0s 380us/step - loss: 0.4089 - acc: 0.7929 - val_loss: 0.5328 - val_acc: 0.7368\n",
      "Epoch 49/200\n",
      "169/169 [==============================] - 0s 375us/step - loss: 0.3975 - acc: 0.7988 - val_loss: 0.5372 - val_acc: 0.7368\n",
      "Epoch 50/200\n",
      "169/169 [==============================] - 0s 373us/step - loss: 0.3999 - acc: 0.7929 - val_loss: 0.5401 - val_acc: 0.7368\n",
      "Epoch 51/200\n",
      "169/169 [==============================] - 0s 355us/step - loss: 0.4068 - acc: 0.7811 - val_loss: 0.5394 - val_acc: 0.7368\n",
      "Epoch 52/200\n",
      "169/169 [==============================] - 0s 406us/step - loss: 0.3942 - acc: 0.7811 - val_loss: 0.5356 - val_acc: 0.7368\n",
      "Epoch 53/200\n",
      "169/169 [==============================] - 0s 362us/step - loss: 0.4040 - acc: 0.7870 - val_loss: 0.5290 - val_acc: 0.7368\n",
      "Epoch 54/200\n",
      "169/169 [==============================] - 0s 412us/step - loss: 0.3919 - acc: 0.7988 - val_loss: 0.5210 - val_acc: 0.7368\n",
      "Epoch 55/200\n",
      "169/169 [==============================] - 0s 404us/step - loss: 0.3960 - acc: 0.8166 - val_loss: 0.5131 - val_acc: 0.7368\n",
      "Epoch 56/200\n",
      "169/169 [==============================] - 0s 440us/step - loss: 0.3993 - acc: 0.7988 - val_loss: 0.5062 - val_acc: 0.7368\n",
      "Epoch 57/200\n",
      "169/169 [==============================] - 0s 432us/step - loss: 0.3878 - acc: 0.8343 - val_loss: 0.5014 - val_acc: 0.7368\n",
      "Epoch 58/200\n",
      "169/169 [==============================] - 0s 389us/step - loss: 0.3839 - acc: 0.8402 - val_loss: 0.4983 - val_acc: 0.7368\n",
      "Epoch 59/200\n",
      "169/169 [==============================] - 0s 463us/step - loss: 0.3910 - acc: 0.8462 - val_loss: 0.4970 - val_acc: 0.7368\n",
      "Epoch 60/200\n",
      "169/169 [==============================] - 0s 382us/step - loss: 0.3870 - acc: 0.8284 - val_loss: 0.4976 - val_acc: 0.7368\n"
     ]
    },
    {
     "name": "stdout",
     "output_type": "stream",
     "text": [
      "Epoch 61/200\n",
      "169/169 [==============================] - 0s 376us/step - loss: 0.3911 - acc: 0.8284 - val_loss: 0.4995 - val_acc: 0.7368\n",
      "Epoch 62/200\n",
      "169/169 [==============================] - 0s 369us/step - loss: 0.3826 - acc: 0.8284 - val_loss: 0.5013 - val_acc: 0.7368\n",
      "Epoch 63/200\n",
      "169/169 [==============================] - 0s 365us/step - loss: 0.3842 - acc: 0.8166 - val_loss: 0.5026 - val_acc: 0.7368\n",
      "Epoch 64/200\n",
      "169/169 [==============================] - 0s 348us/step - loss: 0.3790 - acc: 0.8284 - val_loss: 0.5026 - val_acc: 0.7368\n",
      "Epoch 65/200\n",
      "169/169 [==============================] - 0s 356us/step - loss: 0.3826 - acc: 0.8166 - val_loss: 0.5003 - val_acc: 0.7368\n",
      "Epoch 66/200\n",
      "169/169 [==============================] - 0s 380us/step - loss: 0.3735 - acc: 0.8343 - val_loss: 0.4973 - val_acc: 0.7368\n",
      "Epoch 67/200\n",
      "169/169 [==============================] - 0s 342us/step - loss: 0.3824 - acc: 0.8402 - val_loss: 0.4932 - val_acc: 0.7368\n",
      "Epoch 68/200\n",
      "169/169 [==============================] - 0s 356us/step - loss: 0.3749 - acc: 0.8402 - val_loss: 0.4888 - val_acc: 0.7368\n",
      "Epoch 69/200\n",
      "169/169 [==============================] - 0s 364us/step - loss: 0.3660 - acc: 0.8521 - val_loss: 0.4855 - val_acc: 0.7368\n",
      "Epoch 70/200\n",
      "169/169 [==============================] - 0s 390us/step - loss: 0.3850 - acc: 0.8462 - val_loss: 0.4837 - val_acc: 0.6842\n",
      "Epoch 71/200\n",
      "169/169 [==============================] - 0s 383us/step - loss: 0.3669 - acc: 0.8580 - val_loss: 0.4832 - val_acc: 0.6842\n",
      "Epoch 72/200\n",
      "169/169 [==============================] - 0s 363us/step - loss: 0.3730 - acc: 0.8580 - val_loss: 0.4835 - val_acc: 0.6842\n",
      "Epoch 73/200\n",
      "169/169 [==============================] - 0s 378us/step - loss: 0.3704 - acc: 0.8580 - val_loss: 0.4842 - val_acc: 0.6842\n",
      "Epoch 74/200\n",
      "169/169 [==============================] - 0s 376us/step - loss: 0.3703 - acc: 0.8402 - val_loss: 0.4849 - val_acc: 0.6842\n",
      "Epoch 75/200\n",
      "169/169 [==============================] - 0s 374us/step - loss: 0.3628 - acc: 0.8521 - val_loss: 0.4845 - val_acc: 0.6842\n",
      "Epoch 76/200\n",
      "169/169 [==============================] - 0s 472us/step - loss: 0.3685 - acc: 0.8580 - val_loss: 0.4827 - val_acc: 0.6842\n",
      "Epoch 77/200\n",
      "169/169 [==============================] - 0s 425us/step - loss: 0.3641 - acc: 0.8521 - val_loss: 0.4802 - val_acc: 0.6842\n",
      "Epoch 78/200\n",
      "169/169 [==============================] - 0s 439us/step - loss: 0.3595 - acc: 0.8580 - val_loss: 0.4764 - val_acc: 0.6842\n",
      "Epoch 79/200\n",
      "169/169 [==============================] - 0s 422us/step - loss: 0.3582 - acc: 0.8580 - val_loss: 0.4739 - val_acc: 0.6842\n",
      "Epoch 80/200\n",
      "169/169 [==============================] - 0s 396us/step - loss: 0.3610 - acc: 0.8580 - val_loss: 0.4728 - val_acc: 0.6842\n",
      "Epoch 81/200\n",
      "169/169 [==============================] - 0s 433us/step - loss: 0.3607 - acc: 0.8521 - val_loss: 0.4717 - val_acc: 0.6842\n",
      "Epoch 82/200\n",
      "169/169 [==============================] - 0s 430us/step - loss: 0.3633 - acc: 0.8521 - val_loss: 0.4711 - val_acc: 0.6842\n",
      "Epoch 83/200\n",
      "169/169 [==============================] - 0s 443us/step - loss: 0.3588 - acc: 0.8521 - val_loss: 0.4714 - val_acc: 0.6842\n",
      "Epoch 84/200\n",
      "169/169 [==============================] - 0s 445us/step - loss: 0.3624 - acc: 0.8521 - val_loss: 0.4728 - val_acc: 0.6842\n",
      "Epoch 85/200\n",
      "169/169 [==============================] - 0s 440us/step - loss: 0.3457 - acc: 0.8639 - val_loss: 0.4738 - val_acc: 0.6842\n",
      "Epoch 86/200\n",
      "169/169 [==============================] - 0s 394us/step - loss: 0.3655 - acc: 0.8580 - val_loss: 0.4744 - val_acc: 0.6842\n",
      "Epoch 87/200\n",
      "169/169 [==============================] - 0s 431us/step - loss: 0.3531 - acc: 0.8639 - val_loss: 0.4745 - val_acc: 0.6842\n",
      "Epoch 88/200\n",
      "169/169 [==============================] - 0s 390us/step - loss: 0.3550 - acc: 0.8521 - val_loss: 0.4731 - val_acc: 0.6842\n",
      "Epoch 89/200\n",
      "169/169 [==============================] - 0s 410us/step - loss: 0.3526 - acc: 0.8580 - val_loss: 0.4714 - val_acc: 0.6842\n",
      "Epoch 90/200\n",
      "169/169 [==============================] - 0s 374us/step - loss: 0.3583 - acc: 0.8698 - val_loss: 0.4700 - val_acc: 0.6842\n",
      "Epoch 91/200\n",
      "169/169 [==============================] - 0s 368us/step - loss: 0.3474 - acc: 0.8698 - val_loss: 0.4695 - val_acc: 0.6842\n",
      "Epoch 92/200\n",
      "169/169 [==============================] - 0s 405us/step - loss: 0.3530 - acc: 0.8521 - val_loss: 0.4700 - val_acc: 0.6842\n",
      "Epoch 93/200\n",
      "169/169 [==============================] - 0s 389us/step - loss: 0.3543 - acc: 0.8580 - val_loss: 0.4703 - val_acc: 0.6842\n",
      "Epoch 94/200\n",
      "169/169 [==============================] - 0s 391us/step - loss: 0.3608 - acc: 0.8580 - val_loss: 0.4707 - val_acc: 0.6842\n",
      "Epoch 95/200\n",
      "169/169 [==============================] - 0s 404us/step - loss: 0.3574 - acc: 0.8639 - val_loss: 0.4712 - val_acc: 0.6842\n",
      "Epoch 96/200\n",
      "169/169 [==============================] - 0s 421us/step - loss: 0.3589 - acc: 0.8639 - val_loss: 0.4709 - val_acc: 0.6842\n",
      "Epoch 97/200\n",
      "169/169 [==============================] - 0s 426us/step - loss: 0.3463 - acc: 0.8639 - val_loss: 0.4703 - val_acc: 0.6842\n",
      "Epoch 98/200\n",
      "169/169 [==============================] - 0s 415us/step - loss: 0.3611 - acc: 0.8698 - val_loss: 0.4692 - val_acc: 0.6842\n",
      "Epoch 99/200\n",
      "169/169 [==============================] - 0s 390us/step - loss: 0.3534 - acc: 0.8757 - val_loss: 0.4690 - val_acc: 0.6842\n",
      "Epoch 100/200\n",
      "169/169 [==============================] - 0s 381us/step - loss: 0.3481 - acc: 0.8698 - val_loss: 0.4685 - val_acc: 0.6842\n",
      "Epoch 101/200\n",
      "169/169 [==============================] - 0s 430us/step - loss: 0.3503 - acc: 0.8698 - val_loss: 0.4682 - val_acc: 0.6842\n",
      "Epoch 102/200\n",
      "169/169 [==============================] - 0s 417us/step - loss: 0.3552 - acc: 0.8639 - val_loss: 0.4700 - val_acc: 0.6842\n",
      "Epoch 103/200\n",
      "169/169 [==============================] - 0s 443us/step - loss: 0.3452 - acc: 0.8757 - val_loss: 0.4718 - val_acc: 0.6842\n",
      "Epoch 104/200\n"
     ]
    }
   ],
   "source": [
    "model.fit([X, graph_conv_filters], Y, batch_size=batch_size, validation_split=0.1, epochs=nb_epochs, shuffle=True, verbose=1)"
   ]
  },
  {
   "cell_type": "markdown",
   "metadata": {
    "colab": {
     "base_uri": "https://localhost:8080/",
     "height": 1295
    },
    "colab_type": "code",
    "id": "3lOBizVa4rVt",
    "outputId": "a3142dd2-4ff0-4bb6-a833-a7046f4e0596"
   },
   "source": [
    "## Your Turn! \n",
    "### Run The same but this time with Attention CGNN!"
   ]
  },
  {
   "cell_type": "markdown",
   "metadata": {
    "colab": {
     "base_uri": "https://localhost:8080/",
     "height": 1295
    },
    "colab_type": "code",
    "id": "3lOBizVa4rVt",
    "outputId": "a3142dd2-4ff0-4bb6-a833-a7046f4e0596"
   },
   "source": [
    "## MultiGraphAttentionCNN\n",
    "\n",
    "```python\n",
    "MutliGraphCNN(output_dim, num_filters, activation=None, use_bias=True, kernel_initializer='glorot_uniform', bias_initializer='zeros', kernel_regularizer=None, bias_regularizer=None, activity_regularizer=None, kernel_constraint=None, bias_constraint=None)\n",
    "```\n",
    "\n",
    "MutliGraphCNN assumes that the number of nodes for each graph in the dataset is same. For graph with arbitrary size, one can simply append appropriate zero rows or columns in adjacency matrix (and node feature matrix) based on max graph size in the dataset to achieve this uniformity.\n",
    "\n",
    "__Arguments__\n",
    "\n",
    "- __output_dim__: Positive integer, dimensionality of each graph node feature output space (or also referred dimension of graph node embedding).\n",
    "- __num_filters__: Positive integer, number of graph filters used for constructing  __graph_conv_filters__ input.\n",
    "- __activation__: Activation function to use\n",
    ".\n",
    "If you don't specify anything, no activation is applied\n",
    "\n",
    "- __use_bias__: Boolean, whether the layer uses a bias vector.\n",
    "- __kernel_initializer__: Initializer for the `kernel` weights matrix\n",
    "\n",
    "- __bias_initializer__: Initializer for the bias vector\n",
    "\n",
    "- __kernel_regularizer__: Regularizer function applied to\n",
    "the `kernel` weights matrix\n",
    "\n",
    "- __bias_regularizer__: Regularizer function applied to the bias vector\n",
    "\n",
    "- __activity_regularizer__: Regularizer function applied to\n",
    "the output of the layer (its \"activation\").\n",
    "\n",
    "- __kernel_constraint__: Constraint function applied to the kernel matrix\n",
    "\n",
    "- __bias_constraint__: Constraint function applied to the bias vector\n",
    "\n",
    "\n",
    "__Input shapes__\n",
    "\n",
    "* __graph node feature matrix__ input as a 3D tensor with shape: `(batch_size, num_graph_nodes, input_dim)` corresponding to graph node input feature matrix for each graph.<br />\n",
    "* __graph_conv_filters__ input as a 3D tensor with shape: `(batch_size, num_filters*num_graph_nodes, num_graph_nodes)` <br />\n",
    "`num_filters` is different number of graph convolution filters to be applied on graph. For instance `num_filters` could be power of graph Laplacian.<br />\n",
    "\n",
    "__Output shape__\n",
    "\n",
    "* 3D tensor with shape: `(batch_size, num_graph_nodes, output_dim)`\trepresenting convoluted output graph node embedding matrix for each graph in batch size.<br />\n",
    "\n",
    "\n",
    "\n",
    "<span style=\"float:right;\">[[source]](https://github.com/vermaMachineLearning/keras-deep-graph-learning/blob/master/examples/multi_graph_attention_cnn_graph_classification_example.py)</span>"
   ]
  },
  {
   "cell_type": "code",
   "execution_count": null,
   "metadata": {
    "colab": {
     "base_uri": "https://localhost:8080/",
     "height": 1295
    },
    "colab_type": "code",
    "id": "3lOBizVa4rVt",
    "outputId": "a3142dd2-4ff0-4bb6-a833-a7046f4e0596"
   },
   "outputs": [],
   "source": [
    "num_filters = 2\n",
    "print A.shape"
   ]
  },
  {
   "cell_type": "code",
   "execution_count": null,
   "metadata": {
    "colab": {
     "base_uri": "https://localhost:8080/",
     "height": 1295
    },
    "colab_type": "code",
    "id": "3lOBizVa4rVt",
    "outputId": "a3142dd2-4ff0-4bb6-a833-a7046f4e0596"
   },
   "outputs": [],
   "source": [
    "A_eye_tensor = []\n",
    "for _ in range(orig_num_graphs):\n",
    "    Identity_matrix = np.eye(orig_num_graph_nodes)\n",
    "    A_eye_tensor.append(Identity_matrix)\n",
    "\n",
    "A_eye_tensor = np.array(A_eye_tensor)\n",
    "A_orig = np.add(A_orig, A_eye_tensor)\n",
    "graph_conv_filters = preprocess_edge_adj_tensor(A_orig, symmetric=True)"
   ]
  },
  {
   "cell_type": "code",
   "execution_count": null,
   "metadata": {
    "colab": {
     "base_uri": "https://localhost:8080/",
     "height": 1295
    },
    "colab_type": "code",
    "id": "3lOBizVa4rVt",
    "outputId": "a3142dd2-4ff0-4bb6-a833-a7046f4e0596"
   },
   "outputs": [],
   "source": [
    "# build model\n",
    "X_input = Input(shape=(X.shape[1], X.shape[2]))\n",
    "A_input = Input(shape=(A_orig.shape[1], A_orig.shape[2]))\n",
    "graph_conv_filters_input = Input(shape=(graph_conv_filters.shape[1], graph_conv_filters.shape[2]))\n",
    "\n",
    "output = MultiGraphAttentionCNN(100, num_filters=num_filters, num_attention_heads=2, attention_combine='concat', attention_dropout=0.5, activation='elu', kernel_regularizer=l2(5e-4))([X_input, A_input, graph_conv_filters_input])\n",
    "output = Dropout(0.2)(output)\n",
    "output = MultiGraphAttentionCNN(100, num_filters=num_filters, num_attention_heads=1, attention_combine='average', attention_dropout=0.5, activation='elu', kernel_regularizer=l2(5e-4))([output, A_input, graph_conv_filters_input])\n",
    "output = Dropout(0.2)(output)\n",
    "output = Lambda(lambda x: K.mean(x, axis=1))(output)  # adding a node invariant layer to make sure output does not depends upon the node order in a graph.\n",
    "output = Dense(Y.shape[1], activation='elu')(output)\n",
    "output = Activation('softmax')(output)\n",
    "\n",
    "nb_epochs = 500\n",
    "batch_size = 169\n",
    "\n",
    "model = Model(inputs=[X_input, A_input, graph_conv_filters_input], outputs=output)\n",
    "model.compile(loss='categorical_crossentropy', optimizer='adam', metrics=['acc'])\n",
    "model.fit([X, A_orig, graph_conv_filters], Y, batch_size=batch_size, validation_split=0.1, epochs=nb_epochs, shuffle=True, verbose=1)"
   ]
  }
 ],
 "metadata": {
  "colab": {
   "collapsed_sections": [],
   "name": "dqn-atari-jupyter.ipynb",
   "provenance": [],
   "version": "0.3.2"
  },
  "jupytext": {
   "formats": "ipynb,py:light"
  },
  "kernelspec": {
   "display_name": "Python 2",
   "language": "python",
   "name": "python2"
  },
  "language_info": {
   "codemirror_mode": {
    "name": "ipython",
    "version": 2
   },
   "file_extension": ".py",
   "mimetype": "text/x-python",
   "name": "python",
   "nbconvert_exporter": "python",
   "pygments_lexer": "ipython2",
   "version": "2.7.15"
  }
 },
 "nbformat": 4,
 "nbformat_minor": 2
}
